{
 "cells": [
  {
   "cell_type": "markdown",
   "metadata": {},
   "source": [
    "# Starbucks Capstone Challenge"
   ]
  },
  {
   "cell_type": "markdown",
   "metadata": {},
   "source": [
    "## Description:"
   ]
  },
  {
   "cell_type": "markdown",
   "metadata": {},
   "source": [
    "This notebook is done as the capstone project for Udacity Data Scientist Nanodegree. As a means to attract and retain customers, once every few days Starbucks provides a rewards program that honors regular customers with special offers not available to the standard customer. A customer who received the offer would be rewarded when his cumulated consumption over the designed threshold."
   ]
  },
  {
   "cell_type": "markdown",
   "metadata": {},
   "source": [
    "## Problem Statement:"
   ]
  },
  {
   "cell_type": "markdown",
   "metadata": {},
   "source": [
    "The problem we are looking to solve here is to build a recommendation engine that recommends Starbucks which offer should be sent to a particular customer based on their purchasing decisions."
   ]
  },
  {
   "cell_type": "markdown",
   "metadata": {},
   "source": [
    "## Datasets:"
   ]
  },
  {
   "cell_type": "markdown",
   "metadata": {},
   "source": [
    "The dataset is based on simulated data of consumer behaviour on the Starbucks rewards mobile application provided by Starbucks & Udacity and given in the form of three json files:<br>\n",
    "1) portfolio.json: contains offer ids and meta data about each offer <br>\n",
    "2) profile.json: contains information about customers<br>\n",
    "3) transcript.json: records for transactions, offers received, offers viewed, and offers completed"
   ]
  },
  {
   "cell_type": "markdown",
   "metadata": {},
   "source": [
    "# Some Basic Questions About The Dataset"
   ]
  },
  {
   "cell_type": "markdown",
   "metadata": {},
   "source": [
    "Which year has the most members?<br>\n",
    "Who gets highest paying based on gender?<br>\n",
    "Which type of offers each gender receives?<br>\n",
    "What is the common offer depending on age?<br>\n",
    "How long did the users become members? (in term of days)<br>\n",
    "What is salary ranges for customers across different age?<br>\n",
    "What is the correlation between amount spent and open days?<br>\n",
    "Who takes longer time to acheive an offer depending on gender?<br>\n",
    "How many offers are completed depending on all offers customers viewed?<br>\n",
    "What is the correlation between offer open days and amount spent in dollars?<br>"
   ]
  },
  {
   "cell_type": "markdown",
   "metadata": {},
   "source": [
    "## Starategy:"
   ]
  },
  {
   "cell_type": "markdown",
   "metadata": {},
   "source": [
    "The starategy of solving this problem is as follows:<br>\n",
    "\n",
    "1) Data Exploration<br>\n",
    "2) Quick Exploratory Data Analysis<br>\n",
    "3) Data Preprocessing<br>\n",
    "4) More EDA On The Cleaned Dataset<br>\n",
    "5) Machine Learning<br>\n",
    "6) Data Evaluatin<br>"
   ]
  },
  {
   "cell_type": "markdown",
   "metadata": {},
   "source": [
    "Import all the necessary libraries"
   ]
  },
  {
   "cell_type": "code",
   "execution_count": 1,
   "metadata": {},
   "outputs": [],
   "source": [
    "import json\n",
    "import math\n",
    "import pickle\n",
    "import numpy as np\n",
    "import pandas as pd\n",
    "import seaborn as sns\n",
    "import matplotlib.pyplot as plt"
   ]
  },
  {
   "cell_type": "code",
   "execution_count": 2,
   "metadata": {},
   "outputs": [],
   "source": [
    "import datetime\n",
    "from datetime import datetime"
   ]
  },
  {
   "cell_type": "code",
   "execution_count": 3,
   "metadata": {},
   "outputs": [],
   "source": [
    "from sklearn import preprocessing\n",
    "from sklearn.cluster import KMeans\n",
    "from sklearn.metrics import silhouette_score\n",
    "from sklearn.cluster import AgglomerativeClustering\n",
    "from sklearn.preprocessing import LabelEncoder, OneHotEncoder\n",
    "from sklearn.preprocessing import MultiLabelBinarizer, StandardScaler, Imputer"
   ]
  },
  {
   "cell_type": "code",
   "execution_count": 4,
   "metadata": {},
   "outputs": [],
   "source": [
    "sns.set(style='darkgrid')\n",
    "sns.set_palette('husl')"
   ]
  },
  {
   "cell_type": "code",
   "execution_count": 5,
   "metadata": {},
   "outputs": [],
   "source": [
    "% matplotlib inline"
   ]
  },
  {
   "cell_type": "code",
   "execution_count": 6,
   "metadata": {},
   "outputs": [],
   "source": [
    "from IPython.core.pylabtools import figsize\n",
    "figsize(19, 5)"
   ]
  },
  {
   "cell_type": "code",
   "execution_count": 7,
   "metadata": {},
   "outputs": [],
   "source": [
    "import warnings\n",
    "warnings.filterwarnings('ignore')"
   ]
  },
  {
   "cell_type": "code",
   "execution_count": 8,
   "metadata": {},
   "outputs": [],
   "source": [
    "# read the json files\n",
    "portfolio = pd.read_json('data/portfolio.json', orient = 'records', lines = True)\n",
    "profile = pd.read_json('data/profile.json', orient = 'records', lines = True)\n",
    "transcript = pd.read_json('data/transcript.json', orient = 'records', lines = True)"
   ]
  },
  {
   "cell_type": "markdown",
   "metadata": {},
   "source": [
    "# Data Exploration"
   ]
  },
  {
   "cell_type": "markdown",
   "metadata": {},
   "source": [
    "### Portfolio Dataset"
   ]
  },
  {
   "cell_type": "code",
   "execution_count": 9,
   "metadata": {},
   "outputs": [
    {
     "data": {
      "text/html": [
       "<div>\n",
       "<style scoped>\n",
       "    .dataframe tbody tr th:only-of-type {\n",
       "        vertical-align: middle;\n",
       "    }\n",
       "\n",
       "    .dataframe tbody tr th {\n",
       "        vertical-align: top;\n",
       "    }\n",
       "\n",
       "    .dataframe thead th {\n",
       "        text-align: right;\n",
       "    }\n",
       "</style>\n",
       "<table border=\"1\" class=\"dataframe\">\n",
       "  <thead>\n",
       "    <tr style=\"text-align: right;\">\n",
       "      <th></th>\n",
       "      <th>channels</th>\n",
       "      <th>difficulty</th>\n",
       "      <th>duration</th>\n",
       "      <th>id</th>\n",
       "      <th>offer_type</th>\n",
       "      <th>reward</th>\n",
       "    </tr>\n",
       "  </thead>\n",
       "  <tbody>\n",
       "    <tr>\n",
       "      <th>0</th>\n",
       "      <td>[email, mobile, social]</td>\n",
       "      <td>10</td>\n",
       "      <td>7</td>\n",
       "      <td>ae264e3637204a6fb9bb56bc8210ddfd</td>\n",
       "      <td>bogo</td>\n",
       "      <td>10</td>\n",
       "    </tr>\n",
       "    <tr>\n",
       "      <th>1</th>\n",
       "      <td>[web, email, mobile, social]</td>\n",
       "      <td>10</td>\n",
       "      <td>5</td>\n",
       "      <td>4d5c57ea9a6940dd891ad53e9dbe8da0</td>\n",
       "      <td>bogo</td>\n",
       "      <td>10</td>\n",
       "    </tr>\n",
       "    <tr>\n",
       "      <th>2</th>\n",
       "      <td>[web, email, mobile]</td>\n",
       "      <td>0</td>\n",
       "      <td>4</td>\n",
       "      <td>3f207df678b143eea3cee63160fa8bed</td>\n",
       "      <td>informational</td>\n",
       "      <td>0</td>\n",
       "    </tr>\n",
       "    <tr>\n",
       "      <th>3</th>\n",
       "      <td>[web, email, mobile]</td>\n",
       "      <td>5</td>\n",
       "      <td>7</td>\n",
       "      <td>9b98b8c7a33c4b65b9aebfe6a799e6d9</td>\n",
       "      <td>bogo</td>\n",
       "      <td>5</td>\n",
       "    </tr>\n",
       "    <tr>\n",
       "      <th>4</th>\n",
       "      <td>[web, email]</td>\n",
       "      <td>20</td>\n",
       "      <td>10</td>\n",
       "      <td>0b1e1539f2cc45b7b9fa7c272da2e1d7</td>\n",
       "      <td>discount</td>\n",
       "      <td>5</td>\n",
       "    </tr>\n",
       "  </tbody>\n",
       "</table>\n",
       "</div>"
      ],
      "text/plain": [
       "                       channels  difficulty  duration  \\\n",
       "0       [email, mobile, social]          10         7   \n",
       "1  [web, email, mobile, social]          10         5   \n",
       "2          [web, email, mobile]           0         4   \n",
       "3          [web, email, mobile]           5         7   \n",
       "4                  [web, email]          20        10   \n",
       "\n",
       "                                 id     offer_type  reward  \n",
       "0  ae264e3637204a6fb9bb56bc8210ddfd           bogo      10  \n",
       "1  4d5c57ea9a6940dd891ad53e9dbe8da0           bogo      10  \n",
       "2  3f207df678b143eea3cee63160fa8bed  informational       0  \n",
       "3  9b98b8c7a33c4b65b9aebfe6a799e6d9           bogo       5  \n",
       "4  0b1e1539f2cc45b7b9fa7c272da2e1d7       discount       5  "
      ]
     },
     "execution_count": 9,
     "metadata": {},
     "output_type": "execute_result"
    }
   ],
   "source": [
    "# display the first rows of portfolio\n",
    "portfolio.head()"
   ]
  },
  {
   "cell_type": "code",
   "execution_count": 10,
   "metadata": {},
   "outputs": [
    {
     "name": "stdout",
     "output_type": "stream",
     "text": [
      "<class 'pandas.core.frame.DataFrame'>\n",
      "RangeIndex: 10 entries, 0 to 9\n",
      "Data columns (total 6 columns):\n",
      "channels      10 non-null object\n",
      "difficulty    10 non-null int64\n",
      "duration      10 non-null int64\n",
      "id            10 non-null object\n",
      "offer_type    10 non-null object\n",
      "reward        10 non-null int64\n",
      "dtypes: int64(3), object(3)\n",
      "memory usage: 552.0+ bytes\n"
     ]
    }
   ],
   "source": [
    "# explore datatypes and check for null values \n",
    "portfolio.info()"
   ]
  },
  {
   "cell_type": "markdown",
   "metadata": {},
   "source": [
    "The channels coulmn refers to the way in which the offer is sent to customers through like mobil, email, social and web. Each offer has different difficulty and reward. The difficulty is the minimum required spend to complete an offer in terms of dollars while the duration is time for offer to be open in terms of days. Now let's check all the offer_types that are offered."
   ]
  },
  {
   "cell_type": "code",
   "execution_count": 11,
   "metadata": {},
   "outputs": [
    {
     "data": {
      "text/plain": [
       "array([u'bogo', u'informational', u'discount'], dtype=object)"
      ]
     },
     "execution_count": 11,
     "metadata": {},
     "output_type": "execute_result"
    }
   ],
   "source": [
    "# display all offer types\n",
    "portfolio['offer_type'].unique()"
   ]
  },
  {
   "cell_type": "markdown",
   "metadata": {},
   "source": [
    "So we have three different offer types:\n",
    "<li>BOGO - buy one get one free</li>\n",
    "<li>Discount - discount with purchase</li>\n",
    "<li>Informational - provides information about products</li>"
   ]
  },
  {
   "cell_type": "markdown",
   "metadata": {},
   "source": [
    "### Profile Dataset"
   ]
  },
  {
   "cell_type": "code",
   "execution_count": 12,
   "metadata": {},
   "outputs": [
    {
     "data": {
      "text/html": [
       "<div>\n",
       "<style scoped>\n",
       "    .dataframe tbody tr th:only-of-type {\n",
       "        vertical-align: middle;\n",
       "    }\n",
       "\n",
       "    .dataframe tbody tr th {\n",
       "        vertical-align: top;\n",
       "    }\n",
       "\n",
       "    .dataframe thead th {\n",
       "        text-align: right;\n",
       "    }\n",
       "</style>\n",
       "<table border=\"1\" class=\"dataframe\">\n",
       "  <thead>\n",
       "    <tr style=\"text-align: right;\">\n",
       "      <th></th>\n",
       "      <th>age</th>\n",
       "      <th>became_member_on</th>\n",
       "      <th>gender</th>\n",
       "      <th>id</th>\n",
       "      <th>income</th>\n",
       "    </tr>\n",
       "  </thead>\n",
       "  <tbody>\n",
       "    <tr>\n",
       "      <th>0</th>\n",
       "      <td>118</td>\n",
       "      <td>20170212</td>\n",
       "      <td>None</td>\n",
       "      <td>68be06ca386d4c31939f3a4f0e3dd783</td>\n",
       "      <td>NaN</td>\n",
       "    </tr>\n",
       "    <tr>\n",
       "      <th>1</th>\n",
       "      <td>55</td>\n",
       "      <td>20170715</td>\n",
       "      <td>F</td>\n",
       "      <td>0610b486422d4921ae7d2bf64640c50b</td>\n",
       "      <td>112000.0</td>\n",
       "    </tr>\n",
       "    <tr>\n",
       "      <th>2</th>\n",
       "      <td>118</td>\n",
       "      <td>20180712</td>\n",
       "      <td>None</td>\n",
       "      <td>38fe809add3b4fcf9315a9694bb96ff5</td>\n",
       "      <td>NaN</td>\n",
       "    </tr>\n",
       "    <tr>\n",
       "      <th>3</th>\n",
       "      <td>75</td>\n",
       "      <td>20170509</td>\n",
       "      <td>F</td>\n",
       "      <td>78afa995795e4d85b5d9ceeca43f5fef</td>\n",
       "      <td>100000.0</td>\n",
       "    </tr>\n",
       "    <tr>\n",
       "      <th>4</th>\n",
       "      <td>118</td>\n",
       "      <td>20170804</td>\n",
       "      <td>None</td>\n",
       "      <td>a03223e636434f42ac4c3df47e8bac43</td>\n",
       "      <td>NaN</td>\n",
       "    </tr>\n",
       "  </tbody>\n",
       "</table>\n",
       "</div>"
      ],
      "text/plain": [
       "   age  became_member_on gender                                id    income\n",
       "0  118          20170212   None  68be06ca386d4c31939f3a4f0e3dd783       NaN\n",
       "1   55          20170715      F  0610b486422d4921ae7d2bf64640c50b  112000.0\n",
       "2  118          20180712   None  38fe809add3b4fcf9315a9694bb96ff5       NaN\n",
       "3   75          20170509      F  78afa995795e4d85b5d9ceeca43f5fef  100000.0\n",
       "4  118          20170804   None  a03223e636434f42ac4c3df47e8bac43       NaN"
      ]
     },
     "execution_count": 12,
     "metadata": {},
     "output_type": "execute_result"
    }
   ],
   "source": [
    "# explore profile dataset\n",
    "profile.head()"
   ]
  },
  {
   "cell_type": "code",
   "execution_count": 13,
   "metadata": {},
   "outputs": [
    {
     "name": "stdout",
     "output_type": "stream",
     "text": [
      "<class 'pandas.core.frame.DataFrame'>\n",
      "RangeIndex: 17000 entries, 0 to 16999\n",
      "Data columns (total 5 columns):\n",
      "age                 17000 non-null int64\n",
      "became_member_on    17000 non-null int64\n",
      "gender              14825 non-null object\n",
      "id                  17000 non-null object\n",
      "income              14825 non-null float64\n",
      "dtypes: float64(1), int64(2), object(2)\n",
      "memory usage: 664.1+ KB\n"
     ]
    }
   ],
   "source": [
    "# explore datatypes and check for completeness\n",
    "profile.info()"
   ]
  },
  {
   "cell_type": "markdown",
   "metadata": {},
   "source": [
    "So 17,000 customers were contained in profile and their personal inforamtion, some customers has no information relevant to gender and income, and became_member_on shows the date when customer created an app account, last thing is this table need to be cleaned as it has some null values embedded in gender and income columns that need to be removed"
   ]
  },
  {
   "cell_type": "code",
   "execution_count": 14,
   "metadata": {},
   "outputs": [
    {
     "data": {
      "text/plain": [
       "array([None, u'F', u'M', u'O'], dtype=object)"
      ]
     },
     "execution_count": 14,
     "metadata": {},
     "output_type": "execute_result"
    }
   ],
   "source": [
    "# show all types of genter\n",
    "profile['gender'].unique()"
   ]
  },
  {
   "cell_type": "code",
   "execution_count": 15,
   "metadata": {},
   "outputs": [
    {
     "data": {
      "text/plain": [
       "<matplotlib.axes._subplots.AxesSubplot at 0x11737ce90>"
      ]
     },
     "execution_count": 15,
     "metadata": {},
     "output_type": "execute_result"
    },
    {
     "data": {
      "image/png": "[encoded data removed]",
      "text/plain": [
       "<Figure size 1368x360 with 1 Axes>"
      ]
     },
     "metadata": {
      "needs_background": "light"
     },
     "output_type": "display_data"
    }
   ],
   "source": [
    "# show age distribution\n",
    "sns.distplot(profile['age'], kde = False)"
   ]
  },
  {
   "cell_type": "markdown",
   "metadata": {},
   "source": [
    "Above plot shows some values that out of the normal distribution"
   ]
  },
  {
   "cell_type": "markdown",
   "metadata": {},
   "source": [
    "### Transcript Dataset"
   ]
  },
  {
   "cell_type": "code",
   "execution_count": 16,
   "metadata": {},
   "outputs": [
    {
     "data": {
      "text/html": [
       "<div>\n",
       "<style scoped>\n",
       "    .dataframe tbody tr th:only-of-type {\n",
       "        vertical-align: middle;\n",
       "    }\n",
       "\n",
       "    .dataframe tbody tr th {\n",
       "        vertical-align: top;\n",
       "    }\n",
       "\n",
       "    .dataframe thead th {\n",
       "        text-align: right;\n",
       "    }\n",
       "</style>\n",
       "<table border=\"1\" class=\"dataframe\">\n",
       "  <thead>\n",
       "    <tr style=\"text-align: right;\">\n",
       "      <th></th>\n",
       "      <th>event</th>\n",
       "      <th>person</th>\n",
       "      <th>time</th>\n",
       "      <th>value</th>\n",
       "    </tr>\n",
       "  </thead>\n",
       "  <tbody>\n",
       "    <tr>\n",
       "      <th>0</th>\n",
       "      <td>offer received</td>\n",
       "      <td>78afa995795e4d85b5d9ceeca43f5fef</td>\n",
       "      <td>0</td>\n",
       "      <td>{u'offer id': u'9b98b8c7a33c4b65b9aebfe6a799e6...</td>\n",
       "    </tr>\n",
       "    <tr>\n",
       "      <th>1</th>\n",
       "      <td>offer received</td>\n",
       "      <td>a03223e636434f42ac4c3df47e8bac43</td>\n",
       "      <td>0</td>\n",
       "      <td>{u'offer id': u'0b1e1539f2cc45b7b9fa7c272da2e1...</td>\n",
       "    </tr>\n",
       "    <tr>\n",
       "      <th>2</th>\n",
       "      <td>offer received</td>\n",
       "      <td>e2127556f4f64592b11af22de27a7932</td>\n",
       "      <td>0</td>\n",
       "      <td>{u'offer id': u'2906b810c7d4411798c6938adc9daa...</td>\n",
       "    </tr>\n",
       "    <tr>\n",
       "      <th>3</th>\n",
       "      <td>offer received</td>\n",
       "      <td>8ec6ce2a7e7949b1bf142def7d0e0586</td>\n",
       "      <td>0</td>\n",
       "      <td>{u'offer id': u'fafdcd668e3743c1bb461111dcafc2...</td>\n",
       "    </tr>\n",
       "    <tr>\n",
       "      <th>4</th>\n",
       "      <td>offer received</td>\n",
       "      <td>68617ca6246f4fbc85e91a2a49552598</td>\n",
       "      <td>0</td>\n",
       "      <td>{u'offer id': u'4d5c57ea9a6940dd891ad53e9dbe8d...</td>\n",
       "    </tr>\n",
       "  </tbody>\n",
       "</table>\n",
       "</div>"
      ],
      "text/plain": [
       "            event                            person  time  \\\n",
       "0  offer received  78afa995795e4d85b5d9ceeca43f5fef     0   \n",
       "1  offer received  a03223e636434f42ac4c3df47e8bac43     0   \n",
       "2  offer received  e2127556f4f64592b11af22de27a7932     0   \n",
       "3  offer received  8ec6ce2a7e7949b1bf142def7d0e0586     0   \n",
       "4  offer received  68617ca6246f4fbc85e91a2a49552598     0   \n",
       "\n",
       "                                               value  \n",
       "0  {u'offer id': u'9b98b8c7a33c4b65b9aebfe6a799e6...  \n",
       "1  {u'offer id': u'0b1e1539f2cc45b7b9fa7c272da2e1...  \n",
       "2  {u'offer id': u'2906b810c7d4411798c6938adc9daa...  \n",
       "3  {u'offer id': u'fafdcd668e3743c1bb461111dcafc2...  \n",
       "4  {u'offer id': u'4d5c57ea9a6940dd891ad53e9dbe8d...  "
      ]
     },
     "execution_count": 16,
     "metadata": {},
     "output_type": "execute_result"
    }
   ],
   "source": [
    "# display first few recoreds\n",
    "transcript.head()"
   ]
  },
  {
   "cell_type": "code",
   "execution_count": 17,
   "metadata": {},
   "outputs": [
    {
     "name": "stdout",
     "output_type": "stream",
     "text": [
      "<class 'pandas.core.frame.DataFrame'>\n",
      "RangeIndex: 306534 entries, 0 to 306533\n",
      "Data columns (total 4 columns):\n",
      "event     306534 non-null object\n",
      "person    306534 non-null object\n",
      "time      306534 non-null int64\n",
      "value     306534 non-null object\n",
      "dtypes: int64(1), object(3)\n",
      "memory usage: 9.4+ MB\n"
     ]
    }
   ],
   "source": [
    "# check datatypes & completeness\n",
    "transcript.info()"
   ]
  },
  {
   "cell_type": "markdown",
   "metadata": {},
   "source": [
    "So time coulmn refers to the number of hours after start of test (need to be convered into days), and value column refers to different values depending on the event type, so now let's check out the unique values of event column."
   ]
  },
  {
   "cell_type": "code",
   "execution_count": 18,
   "metadata": {},
   "outputs": [
    {
     "data": {
      "text/plain": [
       "array([u'offer received', u'offer viewed', u'transaction',\n",
       "       u'offer completed'], dtype=object)"
      ]
     },
     "execution_count": 18,
     "metadata": {},
     "output_type": "execute_result"
    }
   ],
   "source": [
    "# check out the event types\n",
    "transcript['event'].unique()"
   ]
  },
  {
   "cell_type": "markdown",
   "metadata": {},
   "source": [
    "Now, the value column will have to be preprocessed depending on the event."
   ]
  },
  {
   "cell_type": "markdown",
   "metadata": {},
   "source": [
    "# Quick EDA"
   ]
  },
  {
   "cell_type": "code",
   "execution_count": 19,
   "metadata": {},
   "outputs": [
    {
     "data": {
      "text/plain": [
       "<matplotlib.axes._subplots.AxesSubplot at 0x1187dbf90>"
      ]
     },
     "execution_count": 19,
     "metadata": {},
     "output_type": "execute_result"
    },
    {
     "data": {
      "image/png": "[encoded data removed]",
      "text/plain": [
       "<Figure size 1368x360 with 1 Axes>"
      ]
     },
     "metadata": {
      "needs_background": "light"
     },
     "output_type": "display_data"
    }
   ],
   "source": [
    "# check age distribution\n",
    "sns.distplot(profile['age'], kde = False)"
   ]
  },
  {
   "cell_type": "code",
   "execution_count": 20,
   "metadata": {},
   "outputs": [
    {
     "data": {
      "text/plain": [
       "<matplotlib.axes._subplots.AxesSubplot at 0x11f19a910>"
      ]
     },
     "execution_count": 20,
     "metadata": {},
     "output_type": "execute_result"
    },
    {
     "data": {
      "image/png": "[encoded data removed]",
      "text/plain": [
       "<Figure size 1368x360 with 1 Axes>"
      ]
     },
     "metadata": {
      "needs_background": "light"
     },
     "output_type": "display_data"
    }
   ],
   "source": [
    "# check income distribution\n",
    "sns.distplot(profile['income'].dropna(), kde = False)"
   ]
  },
  {
   "cell_type": "code",
   "execution_count": 21,
   "metadata": {},
   "outputs": [
    {
     "data": {
      "text/plain": [
       "<matplotlib.axes._subplots.AxesSubplot at 0x12e807590>"
      ]
     },
     "execution_count": 21,
     "metadata": {},
     "output_type": "execute_result"
    },
    {
     "data": {
      "image/png": "[encoded data removed]",
      "text/plain": [
       "<Figure size 1368x360 with 1 Axes>"
      ]
     },
     "metadata": {
      "needs_background": "light"
     },
     "output_type": "display_data"
    }
   ],
   "source": [
    "# check gender count\n",
    "sns.countplot(data = profile, x = 'gender')"
   ]
  },
  {
   "cell_type": "code",
   "execution_count": 22,
   "metadata": {},
   "outputs": [
    {
     "data": {
      "text/plain": [
       "<matplotlib.axes._subplots.AxesSubplot at 0x12ea34890>"
      ]
     },
     "execution_count": 22,
     "metadata": {},
     "output_type": "execute_result"
    },
    {
     "data": {
      "image/png": "[encoded data removed]",
      "text/plain": [
       "<Figure size 1368x360 with 1 Axes>"
      ]
     },
     "metadata": {
      "needs_background": "light"
     },
     "output_type": "display_data"
    }
   ],
   "source": [
    "# age distribution of the customers\n",
    "sns.countplot(x = 'age', hue = 'gender', data = profile, order = [10,20,30,40,50,60,70,80,90,100])"
   ]
  },
  {
   "cell_type": "code",
   "execution_count": 23,
   "metadata": {},
   "outputs": [
    {
     "data": {
      "text/plain": [
       "<matplotlib.axes._subplots.AxesSubplot at 0x131e92d50>"
      ]
     },
     "execution_count": 23,
     "metadata": {},
     "output_type": "execute_result"
    },
    {
     "data": {
      "image/png": "[encoded data removed]",
      "text/plain": [
       "<Figure size 1368x360 with 1 Axes>"
      ]
     },
     "metadata": {
      "needs_background": "light"
     },
     "output_type": "display_data"
    }
   ],
   "source": [
    "# who gets highest paying based on gender?\n",
    "sns.countplot(x ='income', hue = 'gender', data = profile, order = [50000, 60000, 70000, 80000, 90000, 100000, 110000, 120000])"
   ]
  },
  {
   "cell_type": "code",
   "execution_count": 24,
   "metadata": {},
   "outputs": [
    {
     "data": {
      "text/plain": [
       "<matplotlib.axes._subplots.AxesSubplot at 0x135578e90>"
      ]
     },
     "execution_count": 24,
     "metadata": {},
     "output_type": "execute_result"
    },
    {
     "data": {
      "image/png": "[encoded data removed]",
      "text/plain": [
       "<Figure size 1368x360 with 1 Axes>"
      ]
     },
     "metadata": {
      "needs_background": "light"
     },
     "output_type": "display_data"
    }
   ],
   "source": [
    "# salary ranges for customers across different age?\n",
    "sns.countplot(x = 'income', hue = 'gender', data = profile, order = [50000, 60000, 70000, 80000, 90000, 100000, 110000, 120000])"
   ]
  },
  {
   "cell_type": "code",
   "execution_count": 25,
   "metadata": {},
   "outputs": [
    {
     "data": {
      "text/plain": [
       "<matplotlib.axes._subplots.AxesSubplot at 0x1386636d0>"
      ]
     },
     "execution_count": 25,
     "metadata": {},
     "output_type": "execute_result"
    },
    {
     "data": {
      "image/png": "[encoded data removed]",
      "text/plain": [
       "<Figure size 1368x360 with 1 Axes>"
      ]
     },
     "metadata": {
      "needs_background": "light"
     },
     "output_type": "display_data"
    }
   ],
   "source": [
    "# gender/income/age distribution\n",
    "# plt.figure(figsize=(19, 5))\n",
    "sns.violinplot(profile['age'], profile['income'], hue = profile['gender'], order = [20, 30, 40, 50, 60, 70, 80, 90, 100])"
   ]
  },
  {
   "cell_type": "markdown",
   "metadata": {},
   "source": [
    "# Data Preprocessing"
   ]
  },
  {
   "cell_type": "markdown",
   "metadata": {},
   "source": [
    "### Portfolio Dataset"
   ]
  },
  {
   "cell_type": "markdown",
   "metadata": {},
   "source": [
    "There is no much to change in this daatset except:\n",
    "1) changing the name of id column to more meaningful name such as 'offer_id' beacuse otherwise it would be mixed up with the other id coulmn of profile dataset\n",
    "2) encode offer_type and channels columns so to can feed them to our model"
   ]
  },
  {
   "cell_type": "code",
   "execution_count": 26,
   "metadata": {},
   "outputs": [
    {
     "data": {
      "text/html": [
       "<div>\n",
       "<style scoped>\n",
       "    .dataframe tbody tr th:only-of-type {\n",
       "        vertical-align: middle;\n",
       "    }\n",
       "\n",
       "    .dataframe tbody tr th {\n",
       "        vertical-align: top;\n",
       "    }\n",
       "\n",
       "    .dataframe thead th {\n",
       "        text-align: right;\n",
       "    }\n",
       "</style>\n",
       "<table border=\"1\" class=\"dataframe\">\n",
       "  <thead>\n",
       "    <tr style=\"text-align: right;\">\n",
       "      <th></th>\n",
       "      <th>channels</th>\n",
       "      <th>difficulty</th>\n",
       "      <th>duration</th>\n",
       "      <th>offer_id</th>\n",
       "      <th>offer_type</th>\n",
       "      <th>reward</th>\n",
       "    </tr>\n",
       "  </thead>\n",
       "  <tbody>\n",
       "    <tr>\n",
       "      <th>0</th>\n",
       "      <td>[email, mobile, social]</td>\n",
       "      <td>10</td>\n",
       "      <td>7</td>\n",
       "      <td>ae264e3637204a6fb9bb56bc8210ddfd</td>\n",
       "      <td>bogo</td>\n",
       "      <td>10</td>\n",
       "    </tr>\n",
       "    <tr>\n",
       "      <th>1</th>\n",
       "      <td>[web, email, mobile, social]</td>\n",
       "      <td>10</td>\n",
       "      <td>5</td>\n",
       "      <td>4d5c57ea9a6940dd891ad53e9dbe8da0</td>\n",
       "      <td>bogo</td>\n",
       "      <td>10</td>\n",
       "    </tr>\n",
       "    <tr>\n",
       "      <th>2</th>\n",
       "      <td>[web, email, mobile]</td>\n",
       "      <td>0</td>\n",
       "      <td>4</td>\n",
       "      <td>3f207df678b143eea3cee63160fa8bed</td>\n",
       "      <td>informational</td>\n",
       "      <td>0</td>\n",
       "    </tr>\n",
       "    <tr>\n",
       "      <th>3</th>\n",
       "      <td>[web, email, mobile]</td>\n",
       "      <td>5</td>\n",
       "      <td>7</td>\n",
       "      <td>9b98b8c7a33c4b65b9aebfe6a799e6d9</td>\n",
       "      <td>bogo</td>\n",
       "      <td>5</td>\n",
       "    </tr>\n",
       "    <tr>\n",
       "      <th>4</th>\n",
       "      <td>[web, email]</td>\n",
       "      <td>20</td>\n",
       "      <td>10</td>\n",
       "      <td>0b1e1539f2cc45b7b9fa7c272da2e1d7</td>\n",
       "      <td>discount</td>\n",
       "      <td>5</td>\n",
       "    </tr>\n",
       "  </tbody>\n",
       "</table>\n",
       "</div>"
      ],
      "text/plain": [
       "                       channels  difficulty  duration  \\\n",
       "0       [email, mobile, social]          10         7   \n",
       "1  [web, email, mobile, social]          10         5   \n",
       "2          [web, email, mobile]           0         4   \n",
       "3          [web, email, mobile]           5         7   \n",
       "4                  [web, email]          20        10   \n",
       "\n",
       "                           offer_id     offer_type  reward  \n",
       "0  ae264e3637204a6fb9bb56bc8210ddfd           bogo      10  \n",
       "1  4d5c57ea9a6940dd891ad53e9dbe8da0           bogo      10  \n",
       "2  3f207df678b143eea3cee63160fa8bed  informational       0  \n",
       "3  9b98b8c7a33c4b65b9aebfe6a799e6d9           bogo       5  \n",
       "4  0b1e1539f2cc45b7b9fa7c272da2e1d7       discount       5  "
      ]
     },
     "execution_count": 26,
     "metadata": {},
     "output_type": "execute_result"
    }
   ],
   "source": [
    "# change id column name to offer_id\n",
    "portfolio.rename(columns = {'id': 'offer_id'}, inplace = True)\n",
    "portfolio.head()"
   ]
  },
  {
   "cell_type": "code",
   "execution_count": 27,
   "metadata": {},
   "outputs": [
    {
     "data": {
      "text/html": [
       "<div>\n",
       "<style scoped>\n",
       "    .dataframe tbody tr th:only-of-type {\n",
       "        vertical-align: middle;\n",
       "    }\n",
       "\n",
       "    .dataframe tbody tr th {\n",
       "        vertical-align: top;\n",
       "    }\n",
       "\n",
       "    .dataframe thead th {\n",
       "        text-align: right;\n",
       "    }\n",
       "</style>\n",
       "<table border=\"1\" class=\"dataframe\">\n",
       "  <thead>\n",
       "    <tr style=\"text-align: right;\">\n",
       "      <th></th>\n",
       "      <th>channels</th>\n",
       "      <th>difficulty</th>\n",
       "      <th>duration</th>\n",
       "      <th>offer_id</th>\n",
       "      <th>offer_type</th>\n",
       "      <th>reward</th>\n",
       "      <th>bogo</th>\n",
       "      <th>discount</th>\n",
       "      <th>informational</th>\n",
       "    </tr>\n",
       "  </thead>\n",
       "  <tbody>\n",
       "    <tr>\n",
       "      <th>0</th>\n",
       "      <td>[email, mobile, social]</td>\n",
       "      <td>10</td>\n",
       "      <td>7</td>\n",
       "      <td>ae264e3637204a6fb9bb56bc8210ddfd</td>\n",
       "      <td>bogo</td>\n",
       "      <td>10</td>\n",
       "      <td>1</td>\n",
       "      <td>0</td>\n",
       "      <td>0</td>\n",
       "    </tr>\n",
       "    <tr>\n",
       "      <th>1</th>\n",
       "      <td>[web, email, mobile, social]</td>\n",
       "      <td>10</td>\n",
       "      <td>5</td>\n",
       "      <td>4d5c57ea9a6940dd891ad53e9dbe8da0</td>\n",
       "      <td>bogo</td>\n",
       "      <td>10</td>\n",
       "      <td>1</td>\n",
       "      <td>0</td>\n",
       "      <td>0</td>\n",
       "    </tr>\n",
       "    <tr>\n",
       "      <th>2</th>\n",
       "      <td>[web, email, mobile]</td>\n",
       "      <td>0</td>\n",
       "      <td>4</td>\n",
       "      <td>3f207df678b143eea3cee63160fa8bed</td>\n",
       "      <td>informational</td>\n",
       "      <td>0</td>\n",
       "      <td>0</td>\n",
       "      <td>0</td>\n",
       "      <td>1</td>\n",
       "    </tr>\n",
       "    <tr>\n",
       "      <th>3</th>\n",
       "      <td>[web, email, mobile]</td>\n",
       "      <td>5</td>\n",
       "      <td>7</td>\n",
       "      <td>9b98b8c7a33c4b65b9aebfe6a799e6d9</td>\n",
       "      <td>bogo</td>\n",
       "      <td>5</td>\n",
       "      <td>1</td>\n",
       "      <td>0</td>\n",
       "      <td>0</td>\n",
       "    </tr>\n",
       "    <tr>\n",
       "      <th>4</th>\n",
       "      <td>[web, email]</td>\n",
       "      <td>20</td>\n",
       "      <td>10</td>\n",
       "      <td>0b1e1539f2cc45b7b9fa7c272da2e1d7</td>\n",
       "      <td>discount</td>\n",
       "      <td>5</td>\n",
       "      <td>0</td>\n",
       "      <td>1</td>\n",
       "      <td>0</td>\n",
       "    </tr>\n",
       "  </tbody>\n",
       "</table>\n",
       "</div>"
      ],
      "text/plain": [
       "                       channels  difficulty  duration  \\\n",
       "0       [email, mobile, social]          10         7   \n",
       "1  [web, email, mobile, social]          10         5   \n",
       "2          [web, email, mobile]           0         4   \n",
       "3          [web, email, mobile]           5         7   \n",
       "4                  [web, email]          20        10   \n",
       "\n",
       "                           offer_id     offer_type  reward  bogo  discount  \\\n",
       "0  ae264e3637204a6fb9bb56bc8210ddfd           bogo      10     1         0   \n",
       "1  4d5c57ea9a6940dd891ad53e9dbe8da0           bogo      10     1         0   \n",
       "2  3f207df678b143eea3cee63160fa8bed  informational       0     0         0   \n",
       "3  9b98b8c7a33c4b65b9aebfe6a799e6d9           bogo       5     1         0   \n",
       "4  0b1e1539f2cc45b7b9fa7c272da2e1d7       discount       5     0         1   \n",
       "\n",
       "   informational  \n",
       "0              0  \n",
       "1              0  \n",
       "2              1  \n",
       "3              0  \n",
       "4              0  "
      ]
     },
     "execution_count": 27,
     "metadata": {},
     "output_type": "execute_result"
    }
   ],
   "source": [
    "# encode offer_type\n",
    "offer_dummies = pd.get_dummies(portfolio['offer_type'])\n",
    "portfolio = pd.concat([portfolio, offer_dummies], axis = 1)\n",
    "portfolio.head()"
   ]
  },
  {
   "cell_type": "code",
   "execution_count": 28,
   "metadata": {},
   "outputs": [
    {
     "data": {
      "text/html": [
       "<div>\n",
       "<style scoped>\n",
       "    .dataframe tbody tr th:only-of-type {\n",
       "        vertical-align: middle;\n",
       "    }\n",
       "\n",
       "    .dataframe tbody tr th {\n",
       "        vertical-align: top;\n",
       "    }\n",
       "\n",
       "    .dataframe thead th {\n",
       "        text-align: right;\n",
       "    }\n",
       "</style>\n",
       "<table border=\"1\" class=\"dataframe\">\n",
       "  <thead>\n",
       "    <tr style=\"text-align: right;\">\n",
       "      <th></th>\n",
       "      <th>difficulty</th>\n",
       "      <th>duration</th>\n",
       "      <th>offer_id</th>\n",
       "      <th>offer_type</th>\n",
       "      <th>reward</th>\n",
       "      <th>bogo</th>\n",
       "      <th>discount</th>\n",
       "      <th>informational</th>\n",
       "      <th>email</th>\n",
       "      <th>mobile</th>\n",
       "      <th>social</th>\n",
       "      <th>web</th>\n",
       "    </tr>\n",
       "  </thead>\n",
       "  <tbody>\n",
       "    <tr>\n",
       "      <th>0</th>\n",
       "      <td>10</td>\n",
       "      <td>7</td>\n",
       "      <td>ae264e3637204a6fb9bb56bc8210ddfd</td>\n",
       "      <td>bogo</td>\n",
       "      <td>10</td>\n",
       "      <td>1</td>\n",
       "      <td>0</td>\n",
       "      <td>0</td>\n",
       "      <td>1</td>\n",
       "      <td>1</td>\n",
       "      <td>1</td>\n",
       "      <td>0</td>\n",
       "    </tr>\n",
       "    <tr>\n",
       "      <th>1</th>\n",
       "      <td>10</td>\n",
       "      <td>5</td>\n",
       "      <td>4d5c57ea9a6940dd891ad53e9dbe8da0</td>\n",
       "      <td>bogo</td>\n",
       "      <td>10</td>\n",
       "      <td>1</td>\n",
       "      <td>0</td>\n",
       "      <td>0</td>\n",
       "      <td>1</td>\n",
       "      <td>1</td>\n",
       "      <td>1</td>\n",
       "      <td>1</td>\n",
       "    </tr>\n",
       "    <tr>\n",
       "      <th>2</th>\n",
       "      <td>0</td>\n",
       "      <td>4</td>\n",
       "      <td>3f207df678b143eea3cee63160fa8bed</td>\n",
       "      <td>informational</td>\n",
       "      <td>0</td>\n",
       "      <td>0</td>\n",
       "      <td>0</td>\n",
       "      <td>1</td>\n",
       "      <td>1</td>\n",
       "      <td>1</td>\n",
       "      <td>0</td>\n",
       "      <td>1</td>\n",
       "    </tr>\n",
       "    <tr>\n",
       "      <th>3</th>\n",
       "      <td>5</td>\n",
       "      <td>7</td>\n",
       "      <td>9b98b8c7a33c4b65b9aebfe6a799e6d9</td>\n",
       "      <td>bogo</td>\n",
       "      <td>5</td>\n",
       "      <td>1</td>\n",
       "      <td>0</td>\n",
       "      <td>0</td>\n",
       "      <td>1</td>\n",
       "      <td>1</td>\n",
       "      <td>0</td>\n",
       "      <td>1</td>\n",
       "    </tr>\n",
       "    <tr>\n",
       "      <th>4</th>\n",
       "      <td>20</td>\n",
       "      <td>10</td>\n",
       "      <td>0b1e1539f2cc45b7b9fa7c272da2e1d7</td>\n",
       "      <td>discount</td>\n",
       "      <td>5</td>\n",
       "      <td>0</td>\n",
       "      <td>1</td>\n",
       "      <td>0</td>\n",
       "      <td>1</td>\n",
       "      <td>0</td>\n",
       "      <td>0</td>\n",
       "      <td>1</td>\n",
       "    </tr>\n",
       "  </tbody>\n",
       "</table>\n",
       "</div>"
      ],
      "text/plain": [
       "   difficulty  duration                          offer_id     offer_type  \\\n",
       "0          10         7  ae264e3637204a6fb9bb56bc8210ddfd           bogo   \n",
       "1          10         5  4d5c57ea9a6940dd891ad53e9dbe8da0           bogo   \n",
       "2           0         4  3f207df678b143eea3cee63160fa8bed  informational   \n",
       "3           5         7  9b98b8c7a33c4b65b9aebfe6a799e6d9           bogo   \n",
       "4          20        10  0b1e1539f2cc45b7b9fa7c272da2e1d7       discount   \n",
       "\n",
       "   reward  bogo  discount  informational  email  mobile  social  web  \n",
       "0      10     1         0              0      1       1       1    0  \n",
       "1      10     1         0              0      1       1       1    1  \n",
       "2       0     0         0              1      1       1       0    1  \n",
       "3       5     1         0              0      1       1       0    1  \n",
       "4       5     0         1              0      1       0       0    1  "
      ]
     },
     "execution_count": 28,
     "metadata": {},
     "output_type": "execute_result"
    }
   ],
   "source": [
    "# before encoding channels we need to convert the channels lables into individual columns\n",
    "channel_lables = MultiLabelBinarizer()\n",
    "# encode channel_lables\n",
    "enc_channles = channel_lables.fit_transform(portfolio['channels'])\n",
    "# create a new dataframe for encoded channel labels\n",
    "enc_labels_df = pd.DataFrame(data = enc_channles, columns = channel_lables.classes_)\n",
    "# concatenate this dateframe to portfolio\n",
    "portfolio = pd.concat([portfolio, enc_labels_df], axis = 1)\n",
    "portfolio.drop('channels', axis = 1, inplace = True)\n",
    "portfolio.head()"
   ]
  },
  {
   "cell_type": "markdown",
   "metadata": {},
   "source": [
    "### Profile Dataset"
   ]
  },
  {
   "cell_type": "markdown",
   "metadata": {},
   "source": [
    "To clean this dataset we first need to drop all null values, then change the name id coulmn to 'customer_id', then converting became_member_on from int into datetime to calculate the customer membership duration in days since joining"
   ]
  },
  {
   "cell_type": "code",
   "execution_count": 29,
   "metadata": {},
   "outputs": [
    {
     "data": {
      "text/plain": [
       "age                    0\n",
       "became_member_on       0\n",
       "gender              2175\n",
       "id                     0\n",
       "income              2175\n",
       "dtype: int64"
      ]
     },
     "execution_count": 29,
     "metadata": {},
     "output_type": "execute_result"
    }
   ],
   "source": [
    "# check null values agian\n",
    "profile.isnull().sum()"
   ]
  },
  {
   "cell_type": "code",
   "execution_count": 30,
   "metadata": {},
   "outputs": [
    {
     "data": {
      "text/plain": [
       "age                 0\n",
       "became_member_on    0\n",
       "gender              0\n",
       "id                  0\n",
       "income              0\n",
       "dtype: int64"
      ]
     },
     "execution_count": 30,
     "metadata": {},
     "output_type": "execute_result"
    }
   ],
   "source": [
    "# drop all null values\n",
    "profile.dropna(inplace = True)\n",
    "profile.isnull().sum()"
   ]
  },
  {
   "cell_type": "code",
   "execution_count": 31,
   "metadata": {},
   "outputs": [
    {
     "data": {
      "text/html": [
       "<div>\n",
       "<style scoped>\n",
       "    .dataframe tbody tr th:only-of-type {\n",
       "        vertical-align: middle;\n",
       "    }\n",
       "\n",
       "    .dataframe tbody tr th {\n",
       "        vertical-align: top;\n",
       "    }\n",
       "\n",
       "    .dataframe thead th {\n",
       "        text-align: right;\n",
       "    }\n",
       "</style>\n",
       "<table border=\"1\" class=\"dataframe\">\n",
       "  <thead>\n",
       "    <tr style=\"text-align: right;\">\n",
       "      <th></th>\n",
       "      <th>age</th>\n",
       "      <th>became_member_on</th>\n",
       "      <th>gender</th>\n",
       "      <th>customer_id</th>\n",
       "      <th>income</th>\n",
       "    </tr>\n",
       "  </thead>\n",
       "  <tbody>\n",
       "    <tr>\n",
       "      <th>1</th>\n",
       "      <td>55</td>\n",
       "      <td>20170715</td>\n",
       "      <td>F</td>\n",
       "      <td>0610b486422d4921ae7d2bf64640c50b</td>\n",
       "      <td>112000.0</td>\n",
       "    </tr>\n",
       "    <tr>\n",
       "      <th>3</th>\n",
       "      <td>75</td>\n",
       "      <td>20170509</td>\n",
       "      <td>F</td>\n",
       "      <td>78afa995795e4d85b5d9ceeca43f5fef</td>\n",
       "      <td>100000.0</td>\n",
       "    </tr>\n",
       "    <tr>\n",
       "      <th>5</th>\n",
       "      <td>68</td>\n",
       "      <td>20180426</td>\n",
       "      <td>M</td>\n",
       "      <td>e2127556f4f64592b11af22de27a7932</td>\n",
       "      <td>70000.0</td>\n",
       "    </tr>\n",
       "    <tr>\n",
       "      <th>8</th>\n",
       "      <td>65</td>\n",
       "      <td>20180209</td>\n",
       "      <td>M</td>\n",
       "      <td>389bc3fa690240e798340f5a15918d5c</td>\n",
       "      <td>53000.0</td>\n",
       "    </tr>\n",
       "    <tr>\n",
       "      <th>12</th>\n",
       "      <td>58</td>\n",
       "      <td>20171111</td>\n",
       "      <td>M</td>\n",
       "      <td>2eeac8d8feae4a8cad5a6af0499a211d</td>\n",
       "      <td>51000.0</td>\n",
       "    </tr>\n",
       "  </tbody>\n",
       "</table>\n",
       "</div>"
      ],
      "text/plain": [
       "    age  became_member_on gender                       customer_id    income\n",
       "1    55          20170715      F  0610b486422d4921ae7d2bf64640c50b  112000.0\n",
       "3    75          20170509      F  78afa995795e4d85b5d9ceeca43f5fef  100000.0\n",
       "5    68          20180426      M  e2127556f4f64592b11af22de27a7932   70000.0\n",
       "8    65          20180209      M  389bc3fa690240e798340f5a15918d5c   53000.0\n",
       "12   58          20171111      M  2eeac8d8feae4a8cad5a6af0499a211d   51000.0"
      ]
     },
     "execution_count": 31,
     "metadata": {},
     "output_type": "execute_result"
    }
   ],
   "source": [
    "# change id coulmn name\n",
    "profile.rename(columns = {'id': 'customer_id'}, inplace = True)\n",
    "profile.head()"
   ]
  },
  {
   "cell_type": "code",
   "execution_count": 32,
   "metadata": {},
   "outputs": [
    {
     "data": {
      "text/html": [
       "<div>\n",
       "<style scoped>\n",
       "    .dataframe tbody tr th:only-of-type {\n",
       "        vertical-align: middle;\n",
       "    }\n",
       "\n",
       "    .dataframe tbody tr th {\n",
       "        vertical-align: top;\n",
       "    }\n",
       "\n",
       "    .dataframe thead th {\n",
       "        text-align: right;\n",
       "    }\n",
       "</style>\n",
       "<table border=\"1\" class=\"dataframe\">\n",
       "  <thead>\n",
       "    <tr style=\"text-align: right;\">\n",
       "      <th></th>\n",
       "      <th>age</th>\n",
       "      <th>became_member_on</th>\n",
       "      <th>gender</th>\n",
       "      <th>customer_id</th>\n",
       "      <th>income</th>\n",
       "    </tr>\n",
       "  </thead>\n",
       "  <tbody>\n",
       "    <tr>\n",
       "      <th>1</th>\n",
       "      <td>55</td>\n",
       "      <td>2017-07-15</td>\n",
       "      <td>F</td>\n",
       "      <td>0610b486422d4921ae7d2bf64640c50b</td>\n",
       "      <td>112000.0</td>\n",
       "    </tr>\n",
       "    <tr>\n",
       "      <th>3</th>\n",
       "      <td>75</td>\n",
       "      <td>2017-05-09</td>\n",
       "      <td>F</td>\n",
       "      <td>78afa995795e4d85b5d9ceeca43f5fef</td>\n",
       "      <td>100000.0</td>\n",
       "    </tr>\n",
       "    <tr>\n",
       "      <th>5</th>\n",
       "      <td>68</td>\n",
       "      <td>2018-04-26</td>\n",
       "      <td>M</td>\n",
       "      <td>e2127556f4f64592b11af22de27a7932</td>\n",
       "      <td>70000.0</td>\n",
       "    </tr>\n",
       "    <tr>\n",
       "      <th>8</th>\n",
       "      <td>65</td>\n",
       "      <td>2018-02-09</td>\n",
       "      <td>M</td>\n",
       "      <td>389bc3fa690240e798340f5a15918d5c</td>\n",
       "      <td>53000.0</td>\n",
       "    </tr>\n",
       "    <tr>\n",
       "      <th>12</th>\n",
       "      <td>58</td>\n",
       "      <td>2017-11-11</td>\n",
       "      <td>M</td>\n",
       "      <td>2eeac8d8feae4a8cad5a6af0499a211d</td>\n",
       "      <td>51000.0</td>\n",
       "    </tr>\n",
       "  </tbody>\n",
       "</table>\n",
       "</div>"
      ],
      "text/plain": [
       "    age became_member_on gender                       customer_id    income\n",
       "1    55       2017-07-15      F  0610b486422d4921ae7d2bf64640c50b  112000.0\n",
       "3    75       2017-05-09      F  78afa995795e4d85b5d9ceeca43f5fef  100000.0\n",
       "5    68       2018-04-26      M  e2127556f4f64592b11af22de27a7932   70000.0\n",
       "8    65       2018-02-09      M  389bc3fa690240e798340f5a15918d5c   53000.0\n",
       "12   58       2017-11-11      M  2eeac8d8feae4a8cad5a6af0499a211d   51000.0"
      ]
     },
     "execution_count": 32,
     "metadata": {},
     "output_type": "execute_result"
    }
   ],
   "source": [
    "# convert became_member_on column from int into datetime\n",
    "profile['became_member_on'] = pd.to_datetime(profile['became_member_on'], format = '%Y%m%d')\n",
    "profile.head()"
   ]
  },
  {
   "cell_type": "code",
   "execution_count": 33,
   "metadata": {},
   "outputs": [],
   "source": [
    "# extract the year portion of the joined date\n",
    "profile['joined_year'] = profile['became_member_on'].dt.year"
   ]
  },
  {
   "cell_type": "code",
   "execution_count": 34,
   "metadata": {},
   "outputs": [
    {
     "data": {
      "text/html": [
       "<div>\n",
       "<style scoped>\n",
       "    .dataframe tbody tr th:only-of-type {\n",
       "        vertical-align: middle;\n",
       "    }\n",
       "\n",
       "    .dataframe tbody tr th {\n",
       "        vertical-align: top;\n",
       "    }\n",
       "\n",
       "    .dataframe thead th {\n",
       "        text-align: right;\n",
       "    }\n",
       "</style>\n",
       "<table border=\"1\" class=\"dataframe\">\n",
       "  <thead>\n",
       "    <tr style=\"text-align: right;\">\n",
       "      <th></th>\n",
       "      <th>age</th>\n",
       "      <th>became_member_on</th>\n",
       "      <th>gender</th>\n",
       "      <th>customer_id</th>\n",
       "      <th>income</th>\n",
       "      <th>joined_year</th>\n",
       "      <th>member_since</th>\n",
       "    </tr>\n",
       "  </thead>\n",
       "  <tbody>\n",
       "    <tr>\n",
       "      <th>1</th>\n",
       "      <td>55</td>\n",
       "      <td>2017-07-15</td>\n",
       "      <td>F</td>\n",
       "      <td>0610b486422d4921ae7d2bf64640c50b</td>\n",
       "      <td>112000.0</td>\n",
       "      <td>2017</td>\n",
       "      <td>849</td>\n",
       "    </tr>\n",
       "    <tr>\n",
       "      <th>3</th>\n",
       "      <td>75</td>\n",
       "      <td>2017-05-09</td>\n",
       "      <td>F</td>\n",
       "      <td>78afa995795e4d85b5d9ceeca43f5fef</td>\n",
       "      <td>100000.0</td>\n",
       "      <td>2017</td>\n",
       "      <td>916</td>\n",
       "    </tr>\n",
       "    <tr>\n",
       "      <th>5</th>\n",
       "      <td>68</td>\n",
       "      <td>2018-04-26</td>\n",
       "      <td>M</td>\n",
       "      <td>e2127556f4f64592b11af22de27a7932</td>\n",
       "      <td>70000.0</td>\n",
       "      <td>2018</td>\n",
       "      <td>564</td>\n",
       "    </tr>\n",
       "    <tr>\n",
       "      <th>8</th>\n",
       "      <td>65</td>\n",
       "      <td>2018-02-09</td>\n",
       "      <td>M</td>\n",
       "      <td>389bc3fa690240e798340f5a15918d5c</td>\n",
       "      <td>53000.0</td>\n",
       "      <td>2018</td>\n",
       "      <td>640</td>\n",
       "    </tr>\n",
       "    <tr>\n",
       "      <th>12</th>\n",
       "      <td>58</td>\n",
       "      <td>2017-11-11</td>\n",
       "      <td>M</td>\n",
       "      <td>2eeac8d8feae4a8cad5a6af0499a211d</td>\n",
       "      <td>51000.0</td>\n",
       "      <td>2017</td>\n",
       "      <td>730</td>\n",
       "    </tr>\n",
       "  </tbody>\n",
       "</table>\n",
       "</div>"
      ],
      "text/plain": [
       "    age became_member_on gender                       customer_id    income  \\\n",
       "1    55       2017-07-15      F  0610b486422d4921ae7d2bf64640c50b  112000.0   \n",
       "3    75       2017-05-09      F  78afa995795e4d85b5d9ceeca43f5fef  100000.0   \n",
       "5    68       2018-04-26      M  e2127556f4f64592b11af22de27a7932   70000.0   \n",
       "8    65       2018-02-09      M  389bc3fa690240e798340f5a15918d5c   53000.0   \n",
       "12   58       2017-11-11      M  2eeac8d8feae4a8cad5a6af0499a211d   51000.0   \n",
       "\n",
       "    joined_year  member_since  \n",
       "1          2017           849  \n",
       "3          2017           916  \n",
       "5          2018           564  \n",
       "8          2018           640  \n",
       "12         2017           730  "
      ]
     },
     "execution_count": 34,
     "metadata": {},
     "output_type": "execute_result"
    }
   ],
   "source": [
    "# show the date as the number of days since the signup date\n",
    "profile['member_since'] = (datetime.today() - profile.became_member_on).dt.days\n",
    "# profile.drop('became_member_on', axis = 1, inplace = True)\n",
    "profile.head()"
   ]
  },
  {
   "cell_type": "code",
   "execution_count": 35,
   "metadata": {},
   "outputs": [
    {
     "data": {
      "text/html": [
       "<div>\n",
       "<style scoped>\n",
       "    .dataframe tbody tr th:only-of-type {\n",
       "        vertical-align: middle;\n",
       "    }\n",
       "\n",
       "    .dataframe tbody tr th {\n",
       "        vertical-align: top;\n",
       "    }\n",
       "\n",
       "    .dataframe thead th {\n",
       "        text-align: right;\n",
       "    }\n",
       "</style>\n",
       "<table border=\"1\" class=\"dataframe\">\n",
       "  <thead>\n",
       "    <tr style=\"text-align: right;\">\n",
       "      <th></th>\n",
       "      <th>age</th>\n",
       "      <th>became_member_on</th>\n",
       "      <th>gender</th>\n",
       "      <th>customer_id</th>\n",
       "      <th>income</th>\n",
       "      <th>joined_year</th>\n",
       "      <th>member_since</th>\n",
       "    </tr>\n",
       "  </thead>\n",
       "  <tbody>\n",
       "    <tr>\n",
       "      <th>1</th>\n",
       "      <td>55</td>\n",
       "      <td>2017-07-15</td>\n",
       "      <td>0</td>\n",
       "      <td>0610b486422d4921ae7d2bf64640c50b</td>\n",
       "      <td>112000.0</td>\n",
       "      <td>2017</td>\n",
       "      <td>849</td>\n",
       "    </tr>\n",
       "    <tr>\n",
       "      <th>3</th>\n",
       "      <td>75</td>\n",
       "      <td>2017-05-09</td>\n",
       "      <td>0</td>\n",
       "      <td>78afa995795e4d85b5d9ceeca43f5fef</td>\n",
       "      <td>100000.0</td>\n",
       "      <td>2017</td>\n",
       "      <td>916</td>\n",
       "    </tr>\n",
       "    <tr>\n",
       "      <th>5</th>\n",
       "      <td>68</td>\n",
       "      <td>2018-04-26</td>\n",
       "      <td>1</td>\n",
       "      <td>e2127556f4f64592b11af22de27a7932</td>\n",
       "      <td>70000.0</td>\n",
       "      <td>2018</td>\n",
       "      <td>564</td>\n",
       "    </tr>\n",
       "    <tr>\n",
       "      <th>8</th>\n",
       "      <td>65</td>\n",
       "      <td>2018-02-09</td>\n",
       "      <td>1</td>\n",
       "      <td>389bc3fa690240e798340f5a15918d5c</td>\n",
       "      <td>53000.0</td>\n",
       "      <td>2018</td>\n",
       "      <td>640</td>\n",
       "    </tr>\n",
       "    <tr>\n",
       "      <th>12</th>\n",
       "      <td>58</td>\n",
       "      <td>2017-11-11</td>\n",
       "      <td>1</td>\n",
       "      <td>2eeac8d8feae4a8cad5a6af0499a211d</td>\n",
       "      <td>51000.0</td>\n",
       "      <td>2017</td>\n",
       "      <td>730</td>\n",
       "    </tr>\n",
       "  </tbody>\n",
       "</table>\n",
       "</div>"
      ],
      "text/plain": [
       "    age became_member_on  gender                       customer_id    income  \\\n",
       "1    55       2017-07-15       0  0610b486422d4921ae7d2bf64640c50b  112000.0   \n",
       "3    75       2017-05-09       0  78afa995795e4d85b5d9ceeca43f5fef  100000.0   \n",
       "5    68       2018-04-26       1  e2127556f4f64592b11af22de27a7932   70000.0   \n",
       "8    65       2018-02-09       1  389bc3fa690240e798340f5a15918d5c   53000.0   \n",
       "12   58       2017-11-11       1  2eeac8d8feae4a8cad5a6af0499a211d   51000.0   \n",
       "\n",
       "    joined_year  member_since  \n",
       "1          2017           849  \n",
       "3          2017           916  \n",
       "5          2018           564  \n",
       "8          2018           640  \n",
       "12         2017           730  "
      ]
     },
     "execution_count": 35,
     "metadata": {},
     "output_type": "execute_result"
    }
   ],
   "source": [
    "# encode gender column\n",
    "le = preprocessing.LabelEncoder()\n",
    "profile['gender'] = le.fit_transform(profile['gender'])\n",
    "profile.head()"
   ]
  },
  {
   "cell_type": "markdown",
   "metadata": {},
   "source": [
    "### Transcript Dataset"
   ]
  },
  {
   "cell_type": "markdown",
   "metadata": {},
   "source": [
    "To clean this dataset we need to change the name of person column to 'cunstomer_id', 2) convert time coulmn into number of days, 3) then finally we need to split value coulmn into offer_id and amount so we can form new dataframes for offer_transcripts and amount_transcripts"
   ]
  },
  {
   "cell_type": "code",
   "execution_count": 36,
   "metadata": {},
   "outputs": [
    {
     "data": {
      "text/html": [
       "<div>\n",
       "<style scoped>\n",
       "    .dataframe tbody tr th:only-of-type {\n",
       "        vertical-align: middle;\n",
       "    }\n",
       "\n",
       "    .dataframe tbody tr th {\n",
       "        vertical-align: top;\n",
       "    }\n",
       "\n",
       "    .dataframe thead th {\n",
       "        text-align: right;\n",
       "    }\n",
       "</style>\n",
       "<table border=\"1\" class=\"dataframe\">\n",
       "  <thead>\n",
       "    <tr style=\"text-align: right;\">\n",
       "      <th></th>\n",
       "      <th>event</th>\n",
       "      <th>customer_id</th>\n",
       "      <th>time</th>\n",
       "      <th>value</th>\n",
       "    </tr>\n",
       "  </thead>\n",
       "  <tbody>\n",
       "    <tr>\n",
       "      <th>0</th>\n",
       "      <td>offer received</td>\n",
       "      <td>78afa995795e4d85b5d9ceeca43f5fef</td>\n",
       "      <td>0</td>\n",
       "      <td>{u'offer id': u'9b98b8c7a33c4b65b9aebfe6a799e6...</td>\n",
       "    </tr>\n",
       "    <tr>\n",
       "      <th>1</th>\n",
       "      <td>offer received</td>\n",
       "      <td>a03223e636434f42ac4c3df47e8bac43</td>\n",
       "      <td>0</td>\n",
       "      <td>{u'offer id': u'0b1e1539f2cc45b7b9fa7c272da2e1...</td>\n",
       "    </tr>\n",
       "    <tr>\n",
       "      <th>2</th>\n",
       "      <td>offer received</td>\n",
       "      <td>e2127556f4f64592b11af22de27a7932</td>\n",
       "      <td>0</td>\n",
       "      <td>{u'offer id': u'2906b810c7d4411798c6938adc9daa...</td>\n",
       "    </tr>\n",
       "    <tr>\n",
       "      <th>3</th>\n",
       "      <td>offer received</td>\n",
       "      <td>8ec6ce2a7e7949b1bf142def7d0e0586</td>\n",
       "      <td>0</td>\n",
       "      <td>{u'offer id': u'fafdcd668e3743c1bb461111dcafc2...</td>\n",
       "    </tr>\n",
       "    <tr>\n",
       "      <th>4</th>\n",
       "      <td>offer received</td>\n",
       "      <td>68617ca6246f4fbc85e91a2a49552598</td>\n",
       "      <td>0</td>\n",
       "      <td>{u'offer id': u'4d5c57ea9a6940dd891ad53e9dbe8d...</td>\n",
       "    </tr>\n",
       "  </tbody>\n",
       "</table>\n",
       "</div>"
      ],
      "text/plain": [
       "            event                       customer_id  time  \\\n",
       "0  offer received  78afa995795e4d85b5d9ceeca43f5fef     0   \n",
       "1  offer received  a03223e636434f42ac4c3df47e8bac43     0   \n",
       "2  offer received  e2127556f4f64592b11af22de27a7932     0   \n",
       "3  offer received  8ec6ce2a7e7949b1bf142def7d0e0586     0   \n",
       "4  offer received  68617ca6246f4fbc85e91a2a49552598     0   \n",
       "\n",
       "                                               value  \n",
       "0  {u'offer id': u'9b98b8c7a33c4b65b9aebfe6a799e6...  \n",
       "1  {u'offer id': u'0b1e1539f2cc45b7b9fa7c272da2e1...  \n",
       "2  {u'offer id': u'2906b810c7d4411798c6938adc9daa...  \n",
       "3  {u'offer id': u'fafdcd668e3743c1bb461111dcafc2...  \n",
       "4  {u'offer id': u'4d5c57ea9a6940dd891ad53e9dbe8d...  "
      ]
     },
     "execution_count": 36,
     "metadata": {},
     "output_type": "execute_result"
    }
   ],
   "source": [
    "# chnage person column name to customer_id\n",
    "transcript.rename(columns = {'person': 'customer_id'}, inplace = True)\n",
    "transcript.head()"
   ]
  },
  {
   "cell_type": "code",
   "execution_count": 37,
   "metadata": {},
   "outputs": [
    {
     "data": {
      "text/html": [
       "<div>\n",
       "<style scoped>\n",
       "    .dataframe tbody tr th:only-of-type {\n",
       "        vertical-align: middle;\n",
       "    }\n",
       "\n",
       "    .dataframe tbody tr th {\n",
       "        vertical-align: top;\n",
       "    }\n",
       "\n",
       "    .dataframe thead th {\n",
       "        text-align: right;\n",
       "    }\n",
       "</style>\n",
       "<table border=\"1\" class=\"dataframe\">\n",
       "  <thead>\n",
       "    <tr style=\"text-align: right;\">\n",
       "      <th></th>\n",
       "      <th>event</th>\n",
       "      <th>customer_id</th>\n",
       "      <th>value</th>\n",
       "      <th>days</th>\n",
       "    </tr>\n",
       "  </thead>\n",
       "  <tbody>\n",
       "    <tr>\n",
       "      <th>0</th>\n",
       "      <td>offer received</td>\n",
       "      <td>78afa995795e4d85b5d9ceeca43f5fef</td>\n",
       "      <td>{u'offer id': u'9b98b8c7a33c4b65b9aebfe6a799e6...</td>\n",
       "      <td>0.0</td>\n",
       "    </tr>\n",
       "    <tr>\n",
       "      <th>1</th>\n",
       "      <td>offer received</td>\n",
       "      <td>a03223e636434f42ac4c3df47e8bac43</td>\n",
       "      <td>{u'offer id': u'0b1e1539f2cc45b7b9fa7c272da2e1...</td>\n",
       "      <td>0.0</td>\n",
       "    </tr>\n",
       "    <tr>\n",
       "      <th>2</th>\n",
       "      <td>offer received</td>\n",
       "      <td>e2127556f4f64592b11af22de27a7932</td>\n",
       "      <td>{u'offer id': u'2906b810c7d4411798c6938adc9daa...</td>\n",
       "      <td>0.0</td>\n",
       "    </tr>\n",
       "    <tr>\n",
       "      <th>3</th>\n",
       "      <td>offer received</td>\n",
       "      <td>8ec6ce2a7e7949b1bf142def7d0e0586</td>\n",
       "      <td>{u'offer id': u'fafdcd668e3743c1bb461111dcafc2...</td>\n",
       "      <td>0.0</td>\n",
       "    </tr>\n",
       "    <tr>\n",
       "      <th>4</th>\n",
       "      <td>offer received</td>\n",
       "      <td>68617ca6246f4fbc85e91a2a49552598</td>\n",
       "      <td>{u'offer id': u'4d5c57ea9a6940dd891ad53e9dbe8d...</td>\n",
       "      <td>0.0</td>\n",
       "    </tr>\n",
       "  </tbody>\n",
       "</table>\n",
       "</div>"
      ],
      "text/plain": [
       "            event                       customer_id  \\\n",
       "0  offer received  78afa995795e4d85b5d9ceeca43f5fef   \n",
       "1  offer received  a03223e636434f42ac4c3df47e8bac43   \n",
       "2  offer received  e2127556f4f64592b11af22de27a7932   \n",
       "3  offer received  8ec6ce2a7e7949b1bf142def7d0e0586   \n",
       "4  offer received  68617ca6246f4fbc85e91a2a49552598   \n",
       "\n",
       "                                               value  days  \n",
       "0  {u'offer id': u'9b98b8c7a33c4b65b9aebfe6a799e6...   0.0  \n",
       "1  {u'offer id': u'0b1e1539f2cc45b7b9fa7c272da2e1...   0.0  \n",
       "2  {u'offer id': u'2906b810c7d4411798c6938adc9daa...   0.0  \n",
       "3  {u'offer id': u'fafdcd668e3743c1bb461111dcafc2...   0.0  \n",
       "4  {u'offer id': u'4d5c57ea9a6940dd891ad53e9dbe8d...   0.0  "
      ]
     },
     "execution_count": 37,
     "metadata": {},
     "output_type": "execute_result"
    }
   ],
   "source": [
    "# convert time into days\n",
    "transcript['days'] = transcript['time'] / 24\n",
    "transcript.drop(columns = ['time'], inplace = True)\n",
    "transcript.head()"
   ]
  },
  {
   "cell_type": "code",
   "execution_count": 38,
   "metadata": {},
   "outputs": [
    {
     "data": {
      "text/html": [
       "<div>\n",
       "<style scoped>\n",
       "    .dataframe tbody tr th:only-of-type {\n",
       "        vertical-align: middle;\n",
       "    }\n",
       "\n",
       "    .dataframe tbody tr th {\n",
       "        vertical-align: top;\n",
       "    }\n",
       "\n",
       "    .dataframe thead th {\n",
       "        text-align: right;\n",
       "    }\n",
       "</style>\n",
       "<table border=\"1\" class=\"dataframe\">\n",
       "  <thead>\n",
       "    <tr style=\"text-align: right;\">\n",
       "      <th></th>\n",
       "      <th>event</th>\n",
       "      <th>customer_id</th>\n",
       "      <th>value</th>\n",
       "      <th>days</th>\n",
       "      <th>offer completed</th>\n",
       "      <th>offer received</th>\n",
       "      <th>offer viewed</th>\n",
       "      <th>transaction</th>\n",
       "    </tr>\n",
       "  </thead>\n",
       "  <tbody>\n",
       "    <tr>\n",
       "      <th>0</th>\n",
       "      <td>offer received</td>\n",
       "      <td>78afa995795e4d85b5d9ceeca43f5fef</td>\n",
       "      <td>{u'offer id': u'9b98b8c7a33c4b65b9aebfe6a799e6...</td>\n",
       "      <td>0.0</td>\n",
       "      <td>0</td>\n",
       "      <td>1</td>\n",
       "      <td>0</td>\n",
       "      <td>0</td>\n",
       "    </tr>\n",
       "    <tr>\n",
       "      <th>1</th>\n",
       "      <td>offer received</td>\n",
       "      <td>a03223e636434f42ac4c3df47e8bac43</td>\n",
       "      <td>{u'offer id': u'0b1e1539f2cc45b7b9fa7c272da2e1...</td>\n",
       "      <td>0.0</td>\n",
       "      <td>0</td>\n",
       "      <td>1</td>\n",
       "      <td>0</td>\n",
       "      <td>0</td>\n",
       "    </tr>\n",
       "    <tr>\n",
       "      <th>2</th>\n",
       "      <td>offer received</td>\n",
       "      <td>e2127556f4f64592b11af22de27a7932</td>\n",
       "      <td>{u'offer id': u'2906b810c7d4411798c6938adc9daa...</td>\n",
       "      <td>0.0</td>\n",
       "      <td>0</td>\n",
       "      <td>1</td>\n",
       "      <td>0</td>\n",
       "      <td>0</td>\n",
       "    </tr>\n",
       "    <tr>\n",
       "      <th>3</th>\n",
       "      <td>offer received</td>\n",
       "      <td>8ec6ce2a7e7949b1bf142def7d0e0586</td>\n",
       "      <td>{u'offer id': u'fafdcd668e3743c1bb461111dcafc2...</td>\n",
       "      <td>0.0</td>\n",
       "      <td>0</td>\n",
       "      <td>1</td>\n",
       "      <td>0</td>\n",
       "      <td>0</td>\n",
       "    </tr>\n",
       "    <tr>\n",
       "      <th>4</th>\n",
       "      <td>offer received</td>\n",
       "      <td>68617ca6246f4fbc85e91a2a49552598</td>\n",
       "      <td>{u'offer id': u'4d5c57ea9a6940dd891ad53e9dbe8d...</td>\n",
       "      <td>0.0</td>\n",
       "      <td>0</td>\n",
       "      <td>1</td>\n",
       "      <td>0</td>\n",
       "      <td>0</td>\n",
       "    </tr>\n",
       "  </tbody>\n",
       "</table>\n",
       "</div>"
      ],
      "text/plain": [
       "            event                       customer_id  \\\n",
       "0  offer received  78afa995795e4d85b5d9ceeca43f5fef   \n",
       "1  offer received  a03223e636434f42ac4c3df47e8bac43   \n",
       "2  offer received  e2127556f4f64592b11af22de27a7932   \n",
       "3  offer received  8ec6ce2a7e7949b1bf142def7d0e0586   \n",
       "4  offer received  68617ca6246f4fbc85e91a2a49552598   \n",
       "\n",
       "                                               value  days  offer completed  \\\n",
       "0  {u'offer id': u'9b98b8c7a33c4b65b9aebfe6a799e6...   0.0                0   \n",
       "1  {u'offer id': u'0b1e1539f2cc45b7b9fa7c272da2e1...   0.0                0   \n",
       "2  {u'offer id': u'2906b810c7d4411798c6938adc9daa...   0.0                0   \n",
       "3  {u'offer id': u'fafdcd668e3743c1bb461111dcafc2...   0.0                0   \n",
       "4  {u'offer id': u'4d5c57ea9a6940dd891ad53e9dbe8d...   0.0                0   \n",
       "\n",
       "   offer received  offer viewed  transaction  \n",
       "0               1             0            0  \n",
       "1               1             0            0  \n",
       "2               1             0            0  \n",
       "3               1             0            0  \n",
       "4               1             0            0  "
      ]
     },
     "execution_count": 38,
     "metadata": {},
     "output_type": "execute_result"
    }
   ],
   "source": [
    "# encode values column\n",
    "event_dummies = pd.get_dummies(transcript['event'])\n",
    "transcript = pd.concat([transcript, event_dummies], axis = 1)\n",
    "transcript.head()"
   ]
  },
  {
   "cell_type": "code",
   "execution_count": 39,
   "metadata": {},
   "outputs": [],
   "source": [
    "# spilt value coulmn into values and keys where keys are amount or offer and values are offer_id or amount\n",
    "transcript['key'] = transcript['value'].apply(lambda x: list(x.keys())[0])\n",
    "transcript['value'] = transcript['value'].apply(lambda x: list(x.values())[0])"
   ]
  },
  {
   "cell_type": "code",
   "execution_count": 40,
   "metadata": {},
   "outputs": [
    {
     "data": {
      "text/html": [
       "<div>\n",
       "<style scoped>\n",
       "    .dataframe tbody tr th:only-of-type {\n",
       "        vertical-align: middle;\n",
       "    }\n",
       "\n",
       "    .dataframe tbody tr th {\n",
       "        vertical-align: top;\n",
       "    }\n",
       "\n",
       "    .dataframe thead th {\n",
       "        text-align: right;\n",
       "    }\n",
       "</style>\n",
       "<table border=\"1\" class=\"dataframe\">\n",
       "  <thead>\n",
       "    <tr style=\"text-align: right;\">\n",
       "      <th></th>\n",
       "      <th>event</th>\n",
       "      <th>customer_id</th>\n",
       "      <th>offer_id</th>\n",
       "      <th>days</th>\n",
       "      <th>offer completed</th>\n",
       "      <th>offer received</th>\n",
       "      <th>offer viewed</th>\n",
       "      <th>transaction</th>\n",
       "      <th>key</th>\n",
       "    </tr>\n",
       "  </thead>\n",
       "  <tbody>\n",
       "    <tr>\n",
       "      <th>0</th>\n",
       "      <td>offer received</td>\n",
       "      <td>78afa995795e4d85b5d9ceeca43f5fef</td>\n",
       "      <td>9b98b8c7a33c4b65b9aebfe6a799e6d9</td>\n",
       "      <td>0.0</td>\n",
       "      <td>0</td>\n",
       "      <td>1</td>\n",
       "      <td>0</td>\n",
       "      <td>0</td>\n",
       "      <td>offer id</td>\n",
       "    </tr>\n",
       "    <tr>\n",
       "      <th>1</th>\n",
       "      <td>offer received</td>\n",
       "      <td>a03223e636434f42ac4c3df47e8bac43</td>\n",
       "      <td>0b1e1539f2cc45b7b9fa7c272da2e1d7</td>\n",
       "      <td>0.0</td>\n",
       "      <td>0</td>\n",
       "      <td>1</td>\n",
       "      <td>0</td>\n",
       "      <td>0</td>\n",
       "      <td>offer id</td>\n",
       "    </tr>\n",
       "    <tr>\n",
       "      <th>2</th>\n",
       "      <td>offer received</td>\n",
       "      <td>e2127556f4f64592b11af22de27a7932</td>\n",
       "      <td>2906b810c7d4411798c6938adc9daaa5</td>\n",
       "      <td>0.0</td>\n",
       "      <td>0</td>\n",
       "      <td>1</td>\n",
       "      <td>0</td>\n",
       "      <td>0</td>\n",
       "      <td>offer id</td>\n",
       "    </tr>\n",
       "    <tr>\n",
       "      <th>3</th>\n",
       "      <td>offer received</td>\n",
       "      <td>8ec6ce2a7e7949b1bf142def7d0e0586</td>\n",
       "      <td>fafdcd668e3743c1bb461111dcafc2a4</td>\n",
       "      <td>0.0</td>\n",
       "      <td>0</td>\n",
       "      <td>1</td>\n",
       "      <td>0</td>\n",
       "      <td>0</td>\n",
       "      <td>offer id</td>\n",
       "    </tr>\n",
       "    <tr>\n",
       "      <th>4</th>\n",
       "      <td>offer received</td>\n",
       "      <td>68617ca6246f4fbc85e91a2a49552598</td>\n",
       "      <td>4d5c57ea9a6940dd891ad53e9dbe8da0</td>\n",
       "      <td>0.0</td>\n",
       "      <td>0</td>\n",
       "      <td>1</td>\n",
       "      <td>0</td>\n",
       "      <td>0</td>\n",
       "      <td>offer id</td>\n",
       "    </tr>\n",
       "  </tbody>\n",
       "</table>\n",
       "</div>"
      ],
      "text/plain": [
       "            event                       customer_id  \\\n",
       "0  offer received  78afa995795e4d85b5d9ceeca43f5fef   \n",
       "1  offer received  a03223e636434f42ac4c3df47e8bac43   \n",
       "2  offer received  e2127556f4f64592b11af22de27a7932   \n",
       "3  offer received  8ec6ce2a7e7949b1bf142def7d0e0586   \n",
       "4  offer received  68617ca6246f4fbc85e91a2a49552598   \n",
       "\n",
       "                           offer_id  days  offer completed  offer received  \\\n",
       "0  9b98b8c7a33c4b65b9aebfe6a799e6d9   0.0                0               1   \n",
       "1  0b1e1539f2cc45b7b9fa7c272da2e1d7   0.0                0               1   \n",
       "2  2906b810c7d4411798c6938adc9daaa5   0.0                0               1   \n",
       "3  fafdcd668e3743c1bb461111dcafc2a4   0.0                0               1   \n",
       "4  4d5c57ea9a6940dd891ad53e9dbe8da0   0.0                0               1   \n",
       "\n",
       "   offer viewed  transaction       key  \n",
       "0             0            0  offer id  \n",
       "1             0            0  offer id  \n",
       "2             0            0  offer id  \n",
       "3             0            0  offer id  \n",
       "4             0            0  offer id  "
      ]
     },
     "execution_count": 40,
     "metadata": {},
     "output_type": "execute_result"
    }
   ],
   "source": [
    "# create a new dataframe for offer_transcripts\n",
    "offer_transcripts = transcript[transcript['key'] == 'offer id']\n",
    "offer_transcripts.rename(columns = {'value': 'offer_id'}, inplace = True)\n",
    "# offer_transcripts.drop(columns = ['key', 'event', 'offer completed', 'offer received', 'offer viewed', 'transaction'], inplace = True)\n",
    "offer_transcripts.head()"
   ]
  },
  {
   "cell_type": "code",
   "execution_count": 41,
   "metadata": {},
   "outputs": [
    {
     "data": {
      "text/html": [
       "<div>\n",
       "<style scoped>\n",
       "    .dataframe tbody tr th:only-of-type {\n",
       "        vertical-align: middle;\n",
       "    }\n",
       "\n",
       "    .dataframe tbody tr th {\n",
       "        vertical-align: top;\n",
       "    }\n",
       "\n",
       "    .dataframe thead th {\n",
       "        text-align: right;\n",
       "    }\n",
       "</style>\n",
       "<table border=\"1\" class=\"dataframe\">\n",
       "  <thead>\n",
       "    <tr style=\"text-align: right;\">\n",
       "      <th></th>\n",
       "      <th>event</th>\n",
       "      <th>customer_id</th>\n",
       "      <th>amount</th>\n",
       "      <th>days</th>\n",
       "      <th>offer completed</th>\n",
       "      <th>offer received</th>\n",
       "      <th>offer viewed</th>\n",
       "      <th>transaction</th>\n",
       "      <th>key</th>\n",
       "    </tr>\n",
       "  </thead>\n",
       "  <tbody>\n",
       "    <tr>\n",
       "      <th>12654</th>\n",
       "      <td>transaction</td>\n",
       "      <td>02c083884c7d45b39cc68e1314fec56c</td>\n",
       "      <td>0.83</td>\n",
       "      <td>0.0</td>\n",
       "      <td>0</td>\n",
       "      <td>0</td>\n",
       "      <td>0</td>\n",
       "      <td>1</td>\n",
       "      <td>amount</td>\n",
       "    </tr>\n",
       "    <tr>\n",
       "      <th>12657</th>\n",
       "      <td>transaction</td>\n",
       "      <td>9fa9ae8f57894cc9a3b8a9bbe0fc1b2f</td>\n",
       "      <td>34.56</td>\n",
       "      <td>0.0</td>\n",
       "      <td>0</td>\n",
       "      <td>0</td>\n",
       "      <td>0</td>\n",
       "      <td>1</td>\n",
       "      <td>amount</td>\n",
       "    </tr>\n",
       "    <tr>\n",
       "      <th>12659</th>\n",
       "      <td>transaction</td>\n",
       "      <td>54890f68699049c2a04d415abc25e717</td>\n",
       "      <td>13.23</td>\n",
       "      <td>0.0</td>\n",
       "      <td>0</td>\n",
       "      <td>0</td>\n",
       "      <td>0</td>\n",
       "      <td>1</td>\n",
       "      <td>amount</td>\n",
       "    </tr>\n",
       "    <tr>\n",
       "      <th>12670</th>\n",
       "      <td>transaction</td>\n",
       "      <td>b2f1cd155b864803ad8334cdf13c4bd2</td>\n",
       "      <td>19.51</td>\n",
       "      <td>0.0</td>\n",
       "      <td>0</td>\n",
       "      <td>0</td>\n",
       "      <td>0</td>\n",
       "      <td>1</td>\n",
       "      <td>amount</td>\n",
       "    </tr>\n",
       "    <tr>\n",
       "      <th>12671</th>\n",
       "      <td>transaction</td>\n",
       "      <td>fe97aa22dd3e48c8b143116a8403dd52</td>\n",
       "      <td>18.97</td>\n",
       "      <td>0.0</td>\n",
       "      <td>0</td>\n",
       "      <td>0</td>\n",
       "      <td>0</td>\n",
       "      <td>1</td>\n",
       "      <td>amount</td>\n",
       "    </tr>\n",
       "  </tbody>\n",
       "</table>\n",
       "</div>"
      ],
      "text/plain": [
       "             event                       customer_id amount  days  \\\n",
       "12654  transaction  02c083884c7d45b39cc68e1314fec56c   0.83   0.0   \n",
       "12657  transaction  9fa9ae8f57894cc9a3b8a9bbe0fc1b2f  34.56   0.0   \n",
       "12659  transaction  54890f68699049c2a04d415abc25e717  13.23   0.0   \n",
       "12670  transaction  b2f1cd155b864803ad8334cdf13c4bd2  19.51   0.0   \n",
       "12671  transaction  fe97aa22dd3e48c8b143116a8403dd52  18.97   0.0   \n",
       "\n",
       "       offer completed  offer received  offer viewed  transaction     key  \n",
       "12654                0               0             0            1  amount  \n",
       "12657                0               0             0            1  amount  \n",
       "12659                0               0             0            1  amount  \n",
       "12670                0               0             0            1  amount  \n",
       "12671                0               0             0            1  amount  "
      ]
     },
     "execution_count": 41,
     "metadata": {},
     "output_type": "execute_result"
    }
   ],
   "source": [
    "# create a new dataframe for amount_transcripts\n",
    "amount_transcripts = transcript[transcript['key'] == 'amount']\n",
    "amount_transcripts.rename(columns = {'value': 'amount'}, inplace = True)\n",
    "# amount_transcripts.drop(columns = ['key', 'event', 'offer completed', 'offer received', 'offer viewed'], inplace = True)\n",
    "amount_transcripts.head()"
   ]
  },
  {
   "cell_type": "code",
   "execution_count": 42,
   "metadata": {},
   "outputs": [],
   "source": [
    "# combine portfolio and transcript datasets using a unique offer_id\n",
    "transcript.rename(columns = {'value': 'offer_id'}, inplace = True)\n",
    "master_set = transcript.merge(portfolio, how = 'left', on = 'offer_id')"
   ]
  },
  {
   "cell_type": "code",
   "execution_count": 43,
   "metadata": {},
   "outputs": [],
   "source": [
    "# join 'master_set' dataset with 'profile' on 'customer_id'\n",
    "master_set = master_set.merge(profile, how = 'left', on = 'customer_id')"
   ]
  },
  {
   "cell_type": "code",
   "execution_count": 44,
   "metadata": {},
   "outputs": [],
   "source": [
    "master_set.to_csv('master_set.csv', index = False)"
   ]
  },
  {
   "cell_type": "code",
   "execution_count": 45,
   "metadata": {},
   "outputs": [],
   "source": [
    "master_set = pd.read_csv('master_set.csv')"
   ]
  },
  {
   "cell_type": "markdown",
   "metadata": {},
   "source": [
    "# Some More EDA On The Cleaned Dataset"
   ]
  },
  {
   "cell_type": "code",
   "execution_count": 46,
   "metadata": {},
   "outputs": [
    {
     "data": {
      "text/plain": [
       "<matplotlib.axes._subplots.AxesSubplot at 0x11eb12710>"
      ]
     },
     "execution_count": 46,
     "metadata": {},
     "output_type": "execute_result"
    },
    {
     "data": {
      "image/png": "[encoded data removed]",
      "text/plain": [
       "<Figure size 1368x360 with 1 Axes>"
      ]
     },
     "metadata": {
      "needs_background": "light"
     },
     "output_type": "display_data"
    }
   ],
   "source": [
    "# which year has the most members?\n",
    "profile['gender'] = le.inverse_transform(profile['gender'])\n",
    "profile['joined_year'] = profile['became_member_on'].dt.year\n",
    "sns.countplot(x = 'joined_year', hue = 'gender', data = profile)"
   ]
  },
  {
   "cell_type": "code",
   "execution_count": 47,
   "metadata": {},
   "outputs": [],
   "source": [
    "# go back to the encodeing mode\n",
    "le = preprocessing.LabelEncoder()\n",
    "profile['gender'] = le.fit_transform(profile['gender'])"
   ]
  },
  {
   "cell_type": "code",
   "execution_count": 48,
   "metadata": {},
   "outputs": [
    {
     "data": {
      "text/plain": [
       "Text(0.5,1,'Most popular offers depending on customers age')"
      ]
     },
     "execution_count": 48,
     "metadata": {},
     "output_type": "execute_result"
    },
    {
     "data": {
      "image/png": "[encoded data removed]",
      "text/plain": [
       "<Figure size 1368x360 with 1 Axes>"
      ]
     },
     "metadata": {
      "needs_background": "light"
     },
     "output_type": "display_data"
    }
   ],
   "source": [
    "# what is the common offer depending on age\n",
    "sns.countplot(x ='age', hue = 'offer_type', data = master_set, order = [10, 20, 30, 40, 50, 60, 70, 80, 90, 100])\n",
    "plt.title('Most popular offers depending on customers age')"
   ]
  },
  {
   "cell_type": "code",
   "execution_count": 49,
   "metadata": {},
   "outputs": [
    {
     "data": {
      "text/plain": [
       "<matplotlib.axes._subplots.AxesSubplot at 0x11a604e50>"
      ]
     },
     "execution_count": 49,
     "metadata": {},
     "output_type": "execute_result"
    },
    {
     "data": {
      "image/png": "[encoded data removed]",
      "text/plain": [
       "<Figure size 1368x360 with 1 Axes>"
      ]
     },
     "metadata": {
      "needs_background": "light"
     },
     "output_type": "display_data"
    }
   ],
   "source": [
    "# how long did the users become members? (in term of days)\n",
    "sns.countplot(x = 'member_since', hue = 'gender', data = profile, order = [500, 700, 900, 1110, 1300, 1500, 1700])"
   ]
  },
  {
   "cell_type": "code",
   "execution_count": 50,
   "metadata": {},
   "outputs": [
    {
     "data": {
      "text/plain": [
       "<matplotlib.axes._subplots.AxesSubplot at 0x11aa8bfd0>"
      ]
     },
     "execution_count": 50,
     "metadata": {},
     "output_type": "execute_result"
    },
    {
     "data": {
      "image/png": "[encoded data removed]",
      "text/plain": [
       "<Figure size 1368x360 with 1 Axes>"
      ]
     },
     "metadata": {
      "needs_background": "light"
     },
     "output_type": "display_data"
    }
   ],
   "source": [
    "# who takes longer time to acheive an offer depending on gender?\n",
    "master_set['gender'] = master_set['gender'].map({0:'F', 1:'M', 2:'O'}) \n",
    "sns.countplot(x = 'offer_type', hue = 'gender', data = master_set)"
   ]
  },
  {
   "cell_type": "code",
   "execution_count": 51,
   "metadata": {},
   "outputs": [
    {
     "data": {
      "text/plain": [
       "<matplotlib.axes._subplots.AxesSubplot at 0x11b41ba50>"
      ]
     },
     "execution_count": 51,
     "metadata": {},
     "output_type": "execute_result"
    },
    {
     "data": {
      "image/png": "[encoded data removed]",
      "text/plain": [
       "<Figure size 1368x360 with 1 Axes>"
      ]
     },
     "metadata": {
      "needs_background": "light"
     },
     "output_type": "display_data"
    }
   ],
   "source": [
    "# which type of offers each gender receives?\n",
    "sns.countplot(x = 'gender', hue = 'offer_type', data = master_set)"
   ]
  },
  {
   "cell_type": "code",
   "execution_count": 52,
   "metadata": {},
   "outputs": [
    {
     "data": {
      "text/plain": [
       "<matplotlib.axes._subplots.AxesSubplot at 0x121782a10>"
      ]
     },
     "execution_count": 52,
     "metadata": {},
     "output_type": "execute_result"
    },
    {
     "data": {
      "image/png": "[encoded data removed]",
      "text/plain": [
       "<Figure size 1368x360 with 1 Axes>"
      ]
     },
     "metadata": {
      "needs_background": "light"
     },
     "output_type": "display_data"
    }
   ],
   "source": [
    "# how many offers are completed depending on all offers customers viewed?\n",
    "master_set = master_set[master_set['event'] != 'transaction']\n",
    "master_set = master_set[master_set['event'] != 'offer received']\n",
    "sns.countplot(x = 'gender', hue = 'event', data = master_set)"
   ]
  },
  {
   "cell_type": "code",
   "execution_count": 53,
   "metadata": {},
   "outputs": [
    {
     "data": {
      "text/plain": [
       "<matplotlib.axes._subplots.AxesSubplot at 0x1386d7890>"
      ]
     },
     "execution_count": 53,
     "metadata": {},
     "output_type": "execute_result"
    },
    {
     "data": {
      "image/png": "[encoded data removed]",
      "text/plain": [
       "<Figure size 1368x360 with 1 Axes>"
      ]
     },
     "metadata": {
      "needs_background": "light"
     },
     "output_type": "display_data"
    }
   ],
   "source": [
    "# what is the correlation b/w offer open days vs amount spent in dollars?\n",
    "sns.barplot(amount_transcripts['days'], amount_transcripts['amount'], order = range(1, 30, 1))"
   ]
  },
  {
   "cell_type": "code",
   "execution_count": 54,
   "metadata": {},
   "outputs": [
    {
     "data": {
      "text/plain": [
       "<matplotlib.axes._subplots.AxesSubplot at 0x141763290>"
      ]
     },
     "execution_count": 54,
     "metadata": {},
     "output_type": "execute_result"
    },
    {
     "data": {
      "image/png": "[encoded data removed]",
      "text/plain": [
       "<Figure size 1368x360 with 1 Axes>"
      ]
     },
     "metadata": {
      "needs_background": "light"
     },
     "output_type": "display_data"
    }
   ],
   "source": [
    "# correlation between amount spent no. of open days\n",
    "sns.scatterplot(data = amount_transcripts, x = 'days', y = 'amount')"
   ]
  },
  {
   "cell_type": "markdown",
   "metadata": {},
   "source": [
    "# Machine Learning Modelling"
   ]
  },
  {
   "cell_type": "markdown",
   "metadata": {},
   "source": [
    "Before start our modelling we need to create a function (customer_transactions) that will collect customer transactions to build the master dataset"
   ]
  },
  {
   "cell_type": "code",
   "execution_count": 55,
   "metadata": {},
   "outputs": [],
   "source": [
    "def customer_transactions(ids, portfolio = portfolio, profile = profile, offer_transcripts = offer_transcripts, amount_transcripts = amount_transcripts):\n",
    "    \n",
    "    # empty list to append customer data\n",
    "    # variables initialisation\n",
    "    customer_info = []\n",
    "    discounts_num = 0\n",
    "    bogos_num = 0\n",
    "\n",
    "    # get customer details from profile dataset\n",
    "    for customer_id in ids:\n",
    "        customer_credentials = profile[profile['customer_id'] == customer_id]\n",
    "        age = customer_credentials['age'].values[0]\n",
    "        gender = customer_credentials['gender'].values[0]\n",
    "        income = customer_credentials['income'].values[0]\n",
    "        member_since = customer_credentials['member_since'].values[0]\n",
    "\n",
    "#         #Initializing variables we will use later on down\n",
    "#         discounts_num = 0\n",
    "#         bogos_num = 0\n",
    "\n",
    "        # get some new data from amount_transcripts and offer_transcripts\n",
    "        total_viewed = offer_transcripts[offer_transcripts['customer_id'] == customer_id]['offer viewed'].sum()\n",
    "        total_received = offer_transcripts[offer_transcripts['customer_id'] == customer_id]['offer received'].sum()\n",
    "        total_completed = offer_transcripts[offer_transcripts['customer_id'] == customer_id]['offer completed'].sum()\n",
    "        total_spent = amount_transcripts[amount_transcripts['customer_id'] == customer_id]['amount'].sum()\n",
    "        avg_spent = amount_transcripts[amount_transcripts['customer_id'] == customer_id]['amount'].mean()\n",
    "        num_transactions = amount_transcripts[amount_transcripts['customer_id'] == customer_id]['transaction'].sum()\n",
    "\n",
    "        # get the percentage of completed bogo & discount offers\n",
    "        if total_viewed > 0:\n",
    "            percent_completed = total_completed / total_received\n",
    "        else:\n",
    "            percent_completed = 0\n",
    "\n",
    "        # calculate the completed offers in order to calculate the completed bogos & completed discounts\n",
    "        offer_completed_df = offer_transcripts[offer_transcripts['customer_id'] == customer_id]\n",
    "        completed_offer_list = offer_completed_df['offer_id'].tolist()\n",
    "        completed_bogo = portfolio[portfolio['offer_id'].isin(completed_offer_list)]['bogo'].sum()\n",
    "        completed_discount = portfolio[portfolio['offer_id'].isin(completed_offer_list)]['discount'].sum()\n",
    "\n",
    "        # get all the offers received by each customer\n",
    "        offers_received = offer_transcripts[offer_transcripts['customer_id'] == customer_id]['offer_id'].values.tolist()\n",
    "\n",
    "        # get the type of each offer (whether it's bogo or discount)\n",
    "        for i in offers_received:\n",
    "            # iterate through all bogo offers\n",
    "            if i in ['ae264e3637204a6fb9bb56bc8210ddfd', '4d5c57ea9a6940dd891ad53e9dbe8da0', '9b98b8c7a33c4b65b9aebfe6a799e6d9', 'f19421c1d4aa40978ebb69ca19b0e20d']:\n",
    "                bogos_num += 1\n",
    "            # iterate through all discount offers\n",
    "            elif i in ['0b1e1539f2cc45b7b9fa7c272da2e1d7', '2298d6c36e964ae4a3e7e9706d1fb8c2', 'fafdcd668e3743c1bb461111dcafc2a4', '2906b810c7d4411798c6938adc9daaa5']:\n",
    "                discounts_num += 1\n",
    "\n",
    "        # get the percentage of bogo & discount offers completed vs how many of each were offered\n",
    "        if bogos_num > 0:\n",
    "            bogo_percent_completed = completed_bogo / bogos_num\n",
    "        else:\n",
    "            bogo_perecent_completed = 0.0\n",
    "\n",
    "        if discounts_num > 0:\n",
    "            discount_percent_completed = completed_discount / discounts_num\n",
    "        else:\n",
    "            discount_percent_completed = 0.0\n",
    "\n",
    "        # put all data together\n",
    "        customer_data = {'customer_id': customer_id,\n",
    "                        'age': age,\n",
    "                        'gender': gender,\n",
    "                        'income': income,\n",
    "                        'member_since': member_since,\n",
    "                        'total_completed': total_completed,\n",
    "                        'total_viewed': total_viewed,\n",
    "                        'total_received': total_received,\n",
    "                        'percent_completed': percent_completed,\n",
    "                        'total_spent': total_spent,\n",
    "                        'avg_spent': avg_spent,\n",
    "                        'num_transactions': num_transactions,\n",
    "                        'completed_bogo': completed_bogo,\n",
    "                        'bogos_num': bogos_num,\n",
    "                        'bogo_percent_completed': bogo_percent_completed,\n",
    "                        'completed_discount': completed_discount,\n",
    "                        'discounts_num': discounts_num,\n",
    "                        'discount_percent_completed': discount_percent_completed}\n",
    "\n",
    "        # append new data to customer_info\n",
    "        customer_info.append(customer_data)\n",
    "    \n",
    "    # convert customer_info list into a dataframe\n",
    "    customer_transactions = pd.DataFrame(customer_info)\n",
    "    \n",
    "    return customer_transactions"
   ]
  },
  {
   "cell_type": "code",
   "execution_count": 56,
   "metadata": {},
   "outputs": [
    {
     "data": {
      "text/html": [
       "<div>\n",
       "<style scoped>\n",
       "    .dataframe tbody tr th:only-of-type {\n",
       "        vertical-align: middle;\n",
       "    }\n",
       "\n",
       "    .dataframe tbody tr th {\n",
       "        vertical-align: top;\n",
       "    }\n",
       "\n",
       "    .dataframe thead th {\n",
       "        text-align: right;\n",
       "    }\n",
       "</style>\n",
       "<table border=\"1\" class=\"dataframe\">\n",
       "  <thead>\n",
       "    <tr style=\"text-align: right;\">\n",
       "      <th></th>\n",
       "      <th>age</th>\n",
       "      <th>avg_spent</th>\n",
       "      <th>bogo_percent_completed</th>\n",
       "      <th>bogos_num</th>\n",
       "      <th>completed_bogo</th>\n",
       "      <th>completed_discount</th>\n",
       "      <th>customer_id</th>\n",
       "      <th>discount_percent_completed</th>\n",
       "      <th>discounts_num</th>\n",
       "      <th>gender</th>\n",
       "      <th>income</th>\n",
       "      <th>member_since</th>\n",
       "      <th>num_transactions</th>\n",
       "      <th>percent_completed</th>\n",
       "      <th>total_completed</th>\n",
       "      <th>total_received</th>\n",
       "      <th>total_spent</th>\n",
       "      <th>total_viewed</th>\n",
       "    </tr>\n",
       "  </thead>\n",
       "  <tbody>\n",
       "    <tr>\n",
       "      <th>0</th>\n",
       "      <td>55</td>\n",
       "      <td>25.670000</td>\n",
       "      <td>1</td>\n",
       "      <td>1</td>\n",
       "      <td>1</td>\n",
       "      <td>0</td>\n",
       "      <td>0610b486422d4921ae7d2bf64640c50b</td>\n",
       "      <td>0.0</td>\n",
       "      <td>0</td>\n",
       "      <td>0</td>\n",
       "      <td>112000.0</td>\n",
       "      <td>848</td>\n",
       "      <td>3</td>\n",
       "      <td>0</td>\n",
       "      <td>0</td>\n",
       "      <td>2</td>\n",
       "      <td>77.01</td>\n",
       "      <td>0</td>\n",
       "    </tr>\n",
       "    <tr>\n",
       "      <th>1</th>\n",
       "      <td>75</td>\n",
       "      <td>22.752857</td>\n",
       "      <td>0</td>\n",
       "      <td>7</td>\n",
       "      <td>3</td>\n",
       "      <td>0</td>\n",
       "      <td>78afa995795e4d85b5d9ceeca43f5fef</td>\n",
       "      <td>0.0</td>\n",
       "      <td>0</td>\n",
       "      <td>0</td>\n",
       "      <td>100000.0</td>\n",
       "      <td>915</td>\n",
       "      <td>7</td>\n",
       "      <td>0</td>\n",
       "      <td>0</td>\n",
       "      <td>4</td>\n",
       "      <td>159.27</td>\n",
       "      <td>4</td>\n",
       "    </tr>\n",
       "    <tr>\n",
       "      <th>2</th>\n",
       "      <td>68</td>\n",
       "      <td>19.243333</td>\n",
       "      <td>0</td>\n",
       "      <td>9</td>\n",
       "      <td>1</td>\n",
       "      <td>2</td>\n",
       "      <td>e2127556f4f64592b11af22de27a7932</td>\n",
       "      <td>0.0</td>\n",
       "      <td>4</td>\n",
       "      <td>1</td>\n",
       "      <td>70000.0</td>\n",
       "      <td>563</td>\n",
       "      <td>3</td>\n",
       "      <td>0</td>\n",
       "      <td>0</td>\n",
       "      <td>4</td>\n",
       "      <td>57.73</td>\n",
       "      <td>3</td>\n",
       "    </tr>\n",
       "    <tr>\n",
       "      <th>3</th>\n",
       "      <td>65</td>\n",
       "      <td>12.143333</td>\n",
       "      <td>0</td>\n",
       "      <td>17</td>\n",
       "      <td>2</td>\n",
       "      <td>2</td>\n",
       "      <td>389bc3fa690240e798340f5a15918d5c</td>\n",
       "      <td>0.0</td>\n",
       "      <td>8</td>\n",
       "      <td>1</td>\n",
       "      <td>53000.0</td>\n",
       "      <td>639</td>\n",
       "      <td>3</td>\n",
       "      <td>0</td>\n",
       "      <td>0</td>\n",
       "      <td>6</td>\n",
       "      <td>36.43</td>\n",
       "      <td>6</td>\n",
       "    </tr>\n",
       "    <tr>\n",
       "      <th>4</th>\n",
       "      <td>58</td>\n",
       "      <td>3.905000</td>\n",
       "      <td>0</td>\n",
       "      <td>17</td>\n",
       "      <td>0</td>\n",
       "      <td>2</td>\n",
       "      <td>2eeac8d8feae4a8cad5a6af0499a211d</td>\n",
       "      <td>0.0</td>\n",
       "      <td>12</td>\n",
       "      <td>1</td>\n",
       "      <td>51000.0</td>\n",
       "      <td>729</td>\n",
       "      <td>4</td>\n",
       "      <td>0</td>\n",
       "      <td>0</td>\n",
       "      <td>3</td>\n",
       "      <td>15.62</td>\n",
       "      <td>2</td>\n",
       "    </tr>\n",
       "  </tbody>\n",
       "</table>\n",
       "</div>"
      ],
      "text/plain": [
       "   age  avg_spent  bogo_percent_completed  bogos_num  completed_bogo  \\\n",
       "0   55  25.670000                       1          1               1   \n",
       "1   75  22.752857                       0          7               3   \n",
       "2   68  19.243333                       0          9               1   \n",
       "3   65  12.143333                       0         17               2   \n",
       "4   58   3.905000                       0         17               0   \n",
       "\n",
       "   completed_discount                       customer_id  \\\n",
       "0                   0  0610b486422d4921ae7d2bf64640c50b   \n",
       "1                   0  78afa995795e4d85b5d9ceeca43f5fef   \n",
       "2                   2  e2127556f4f64592b11af22de27a7932   \n",
       "3                   2  389bc3fa690240e798340f5a15918d5c   \n",
       "4                   2  2eeac8d8feae4a8cad5a6af0499a211d   \n",
       "\n",
       "   discount_percent_completed  discounts_num  gender    income  member_since  \\\n",
       "0                         0.0              0       0  112000.0           848   \n",
       "1                         0.0              0       0  100000.0           915   \n",
       "2                         0.0              4       1   70000.0           563   \n",
       "3                         0.0              8       1   53000.0           639   \n",
       "4                         0.0             12       1   51000.0           729   \n",
       "\n",
       "   num_transactions  percent_completed  total_completed  total_received  \\\n",
       "0                 3                  0                0               2   \n",
       "1                 7                  0                0               4   \n",
       "2                 3                  0                0               4   \n",
       "3                 3                  0                0               6   \n",
       "4                 4                  0                0               3   \n",
       "\n",
       "   total_spent  total_viewed  \n",
       "0        77.01             0  \n",
       "1       159.27             4  \n",
       "2        57.73             3  \n",
       "3        36.43             6  \n",
       "4        15.62             2  "
      ]
     },
     "execution_count": 56,
     "metadata": {},
     "output_type": "execute_result"
    }
   ],
   "source": [
    "ids = profile['customer_id'].to_list()\n",
    "master = customer_transactions(ids)\n",
    "master.head()"
   ]
  },
  {
   "cell_type": "code",
   "execution_count": 57,
   "metadata": {},
   "outputs": [],
   "source": [
    "master.to_csv('master.csv', index = False)"
   ]
  },
  {
   "cell_type": "code",
   "execution_count": 58,
   "metadata": {},
   "outputs": [],
   "source": [
    "master = pd.read_csv('master.csv')"
   ]
  },
  {
   "cell_type": "code",
   "execution_count": 59,
   "metadata": {},
   "outputs": [],
   "source": [
    "master.drop(columns = 'customer_id', inplace = True)"
   ]
  },
  {
   "cell_type": "markdown",
   "metadata": {},
   "source": [
    "Next step is to normalise the numerical values to ensure data will all be on the same scale"
   ]
  },
  {
   "cell_type": "code",
   "execution_count": 60,
   "metadata": {},
   "outputs": [],
   "source": [
    "# replace missing values with means\n",
    "imputer = Imputer(strategy = 'median')\n",
    "imputed_df = pd.DataFrame(imputer.fit_transform(master))"
   ]
  },
  {
   "cell_type": "code",
   "execution_count": 61,
   "metadata": {},
   "outputs": [
    {
     "data": {
      "text/plain": [
       "array([[ 0.03488876,  0.63820631,  3.99527753, ..., -2.31304676,\n",
       "        -0.30792521, -2.6045925 ],\n",
       "       [ 1.18543027,  0.4598592 , -0.2502955 , ..., -0.45198908,\n",
       "         0.3250357 ,  0.49312782],\n",
       "       [ 0.78274074,  0.24529534, -0.2502955 , ..., -0.45198908,\n",
       "        -0.45627783, -0.28130226],\n",
       "       ...,\n",
       "       [-0.31027369, -0.62749485,  3.99527753, ..., -1.38251792,\n",
       "        -0.59470436, -1.83016242],\n",
       "       [ 1.64564687, -0.10291241, -0.2502955 , ..., -1.38251792,\n",
       "         0.55895269, -0.28130226],\n",
       "       [ 0.43757829,  0.52612071, -0.2502955 , ..., -0.45198908,\n",
       "         0.19999783, -1.05573234]])"
      ]
     },
     "execution_count": 61,
     "metadata": {},
     "output_type": "execute_result"
    }
   ],
   "source": [
    "# initialise a scaler\n",
    "scaler = StandardScaler()\n",
    "# fit and transform scaling on data\n",
    "scaled_data = scaler.fit_transform(imputed_df)\n",
    "scaled_data"
   ]
  },
  {
   "cell_type": "code",
   "execution_count": 62,
   "metadata": {},
   "outputs": [
    {
     "data": {
      "text/html": [
       "<div>\n",
       "<style scoped>\n",
       "    .dataframe tbody tr th:only-of-type {\n",
       "        vertical-align: middle;\n",
       "    }\n",
       "\n",
       "    .dataframe tbody tr th {\n",
       "        vertical-align: top;\n",
       "    }\n",
       "\n",
       "    .dataframe thead th {\n",
       "        text-align: right;\n",
       "    }\n",
       "</style>\n",
       "<table border=\"1\" class=\"dataframe\">\n",
       "  <thead>\n",
       "    <tr style=\"text-align: right;\">\n",
       "      <th></th>\n",
       "      <th>age</th>\n",
       "      <th>avg_spent</th>\n",
       "      <th>bogo_percent_completed</th>\n",
       "      <th>completed_bogo</th>\n",
       "      <th>completed_discount</th>\n",
       "      <th>discount_percent_completed</th>\n",
       "      <th>gender</th>\n",
       "      <th>income</th>\n",
       "      <th>member_since</th>\n",
       "      <th>num_bogos</th>\n",
       "      <th>num_discounts</th>\n",
       "      <th>num_transactions</th>\n",
       "      <th>percent_completed</th>\n",
       "      <th>total_completed</th>\n",
       "      <th>total_received</th>\n",
       "      <th>total_spent</th>\n",
       "      <th>total_viewed</th>\n",
       "    </tr>\n",
       "  </thead>\n",
       "  <tbody>\n",
       "    <tr>\n",
       "      <th>0</th>\n",
       "      <td>0.034889</td>\n",
       "      <td>0.638206</td>\n",
       "      <td>3.995278</td>\n",
       "      <td>-0.564000</td>\n",
       "      <td>-1.711274</td>\n",
       "      <td>-0.351955</td>\n",
       "      <td>-1.159778</td>\n",
       "      <td>2.157419</td>\n",
       "      <td>-0.349433</td>\n",
       "      <td>-1.086118</td>\n",
       "      <td>-1.512168</td>\n",
       "      <td>-1.034512</td>\n",
       "      <td>0.0</td>\n",
       "      <td>0.0</td>\n",
       "      <td>-2.313047</td>\n",
       "      <td>-0.307925</td>\n",
       "      <td>-2.604592</td>\n",
       "    </tr>\n",
       "    <tr>\n",
       "      <th>1</th>\n",
       "      <td>1.185430</td>\n",
       "      <td>0.459859</td>\n",
       "      <td>-0.250296</td>\n",
       "      <td>1.746709</td>\n",
       "      <td>-1.711274</td>\n",
       "      <td>-0.351955</td>\n",
       "      <td>-1.159778</td>\n",
       "      <td>1.601801</td>\n",
       "      <td>-0.189601</td>\n",
       "      <td>1.299248</td>\n",
       "      <td>-1.512168</td>\n",
       "      <td>-0.262682</td>\n",
       "      <td>0.0</td>\n",
       "      <td>0.0</td>\n",
       "      <td>-0.451989</td>\n",
       "      <td>0.325036</td>\n",
       "      <td>0.493128</td>\n",
       "    </tr>\n",
       "    <tr>\n",
       "      <th>2</th>\n",
       "      <td>0.782741</td>\n",
       "      <td>0.245295</td>\n",
       "      <td>-0.250296</td>\n",
       "      <td>-0.564000</td>\n",
       "      <td>0.582649</td>\n",
       "      <td>-0.351955</td>\n",
       "      <td>0.770364</td>\n",
       "      <td>0.212756</td>\n",
       "      <td>-1.029314</td>\n",
       "      <td>-0.609045</td>\n",
       "      <td>0.475013</td>\n",
       "      <td>-1.034512</td>\n",
       "      <td>0.0</td>\n",
       "      <td>0.0</td>\n",
       "      <td>-0.451989</td>\n",
       "      <td>-0.456278</td>\n",
       "      <td>-0.281302</td>\n",
       "    </tr>\n",
       "    <tr>\n",
       "      <th>3</th>\n",
       "      <td>0.610160</td>\n",
       "      <td>-0.188782</td>\n",
       "      <td>-0.250296</td>\n",
       "      <td>0.591354</td>\n",
       "      <td>0.582649</td>\n",
       "      <td>-0.351955</td>\n",
       "      <td>0.770364</td>\n",
       "      <td>-0.574370</td>\n",
       "      <td>-0.848012</td>\n",
       "      <td>2.253394</td>\n",
       "      <td>0.475013</td>\n",
       "      <td>-1.034512</td>\n",
       "      <td>0.0</td>\n",
       "      <td>0.0</td>\n",
       "      <td>1.409069</td>\n",
       "      <td>-0.620174</td>\n",
       "      <td>2.041988</td>\n",
       "    </tr>\n",
       "    <tr>\n",
       "      <th>4</th>\n",
       "      <td>0.207470</td>\n",
       "      <td>-0.692454</td>\n",
       "      <td>-0.250296</td>\n",
       "      <td>-1.719354</td>\n",
       "      <td>0.582649</td>\n",
       "      <td>-0.351955</td>\n",
       "      <td>0.770364</td>\n",
       "      <td>-0.666973</td>\n",
       "      <td>-0.633313</td>\n",
       "      <td>-1.563191</td>\n",
       "      <td>0.475013</td>\n",
       "      <td>-0.841554</td>\n",
       "      <td>0.0</td>\n",
       "      <td>0.0</td>\n",
       "      <td>-1.382518</td>\n",
       "      <td>-0.780299</td>\n",
       "      <td>-1.055732</td>\n",
       "    </tr>\n",
       "  </tbody>\n",
       "</table>\n",
       "</div>"
      ],
      "text/plain": [
       "        age  avg_spent  bogo_percent_completed  completed_bogo  \\\n",
       "0  0.034889   0.638206                3.995278       -0.564000   \n",
       "1  1.185430   0.459859               -0.250296        1.746709   \n",
       "2  0.782741   0.245295               -0.250296       -0.564000   \n",
       "3  0.610160  -0.188782               -0.250296        0.591354   \n",
       "4  0.207470  -0.692454               -0.250296       -1.719354   \n",
       "\n",
       "   completed_discount  discount_percent_completed    gender    income  \\\n",
       "0           -1.711274                   -0.351955 -1.159778  2.157419   \n",
       "1           -1.711274                   -0.351955 -1.159778  1.601801   \n",
       "2            0.582649                   -0.351955  0.770364  0.212756   \n",
       "3            0.582649                   -0.351955  0.770364 -0.574370   \n",
       "4            0.582649                   -0.351955  0.770364 -0.666973   \n",
       "\n",
       "   member_since  num_bogos  num_discounts  num_transactions  \\\n",
       "0     -0.349433  -1.086118      -1.512168         -1.034512   \n",
       "1     -0.189601   1.299248      -1.512168         -0.262682   \n",
       "2     -1.029314  -0.609045       0.475013         -1.034512   \n",
       "3     -0.848012   2.253394       0.475013         -1.034512   \n",
       "4     -0.633313  -1.563191       0.475013         -0.841554   \n",
       "\n",
       "   percent_completed  total_completed  total_received  total_spent  \\\n",
       "0                0.0              0.0       -2.313047    -0.307925   \n",
       "1                0.0              0.0       -0.451989     0.325036   \n",
       "2                0.0              0.0       -0.451989    -0.456278   \n",
       "3                0.0              0.0        1.409069    -0.620174   \n",
       "4                0.0              0.0       -1.382518    -0.780299   \n",
       "\n",
       "   total_viewed  \n",
       "0     -2.604592  \n",
       "1      0.493128  \n",
       "2     -0.281302  \n",
       "3      2.041988  \n",
       "4     -1.055732  "
      ]
     },
     "execution_count": 62,
     "metadata": {},
     "output_type": "execute_result"
    }
   ],
   "source": [
    "# get the scaled data back into dataframe\n",
    "column_names = master.columns.values.tolist()\n",
    "master_transactions = pd.DataFrame(scaled_data, columns = column_names)\n",
    "master_transactions.head()"
   ]
  },
  {
   "cell_type": "code",
   "execution_count": 63,
   "metadata": {},
   "outputs": [],
   "source": [
    "# save scaled data\n",
    "master_transactions.to_csv('master_transactions.csv', index = False)\n",
    "# master_transactions.to_csv('customer_transactions_scaled.csv', index = False)\n",
    "# customer_transactions_master.to_csv('customer_transactions_scaled.csv', index = False)"
   ]
  },
  {
   "cell_type": "markdown",
   "metadata": {},
   "source": [
    "First, let's have an idea on what a good k number of clusters would be based on the sum of squared distance (SSE) between data points and their assigned clusters’ centroids, this can be done by picking k at the spot where SSE starts to flatten out and forming an elbow (Elbow Method)"
   ]
  },
  {
   "cell_type": "code",
   "execution_count": 64,
   "metadata": {},
   "outputs": [],
   "source": [
    "# iterate through various kmeans models that takes data & cluster no. as inputs\n",
    "def kmeans_score(data, clusters_num):\n",
    "    kmeans = KMeans(n_clusters = clusters_num)\n",
    "    model = kmeans.fit(data)\n",
    "    score = np.abs(model.score(data))\n",
    "    return score"
   ]
  },
  {
   "cell_type": "code",
   "execution_count": 65,
   "metadata": {},
   "outputs": [],
   "source": [
    "# run above function for a number of different cluster patterns\n",
    "scores = []\n",
    "for i in range(1, 20):\n",
    "    score = kmeans_score(master_transactions, i)\n",
    "    scores.append(score)"
   ]
  },
  {
   "cell_type": "code",
   "execution_count": 66,
   "metadata": {},
   "outputs": [
    {
     "data": {
      "text/plain": [
       "Text(0.5,1,'KMeans SSE scores as K increases')"
      ]
     },
     "execution_count": 66,
     "metadata": {},
     "output_type": "execute_result"
    },
    {
     "data": {
      "image/png": "[encoded data removed]",
      "text/plain": [
       "<Figure size 1368x360 with 1 Axes>"
      ]
     },
     "metadata": {
      "needs_background": "light"
     },
     "output_type": "display_data"
    }
   ],
   "source": [
    "centers = range(1, 20)\n",
    "plt.plot(centers, scores, linestyle = '--', marker = 'o')\n",
    "plt.ylabel('SSE')\n",
    "plt.xlabel('Number of clusters (K)')\n",
    "plt.title('KMeans SSE scores as K increases')"
   ]
  },
  {
   "cell_type": "markdown",
   "metadata": {},
   "source": [
    "Graph above shows that k = 20 is the best choice..\n"
   ]
  },
  {
   "cell_type": "markdown",
   "metadata": {},
   "source": [
    "Next step is to apply silhouette analysis to determine the degree of separation between clusters if the value:<br>\n",
    "1) If it's 0 –> the sample is very close to the neighboring clusters<br>\n",
    "2) It it's 1 –> the sample is far away from the neighboring clusters<br>\n",
    "3) It it's -1 –> the sample is assigned to the wrong clusters<br>\n",
    "Therefore, we want the coefficients to be as big as possible and close to 1 to have a good clusters."
   ]
  },
  {
   "cell_type": "code",
   "execution_count": 67,
   "metadata": {},
   "outputs": [
    {
     "name": "stdout",
     "output_type": "stream",
     "text": [
      "For clusters num = 2, the avg silhouette score is: 0.117549322098)\n",
      "For clusters num = 3, the avg silhouette score is: 0.111254060635)\n",
      "For clusters num = 4, the avg silhouette score is: 0.12393623792)\n",
      "For clusters num = 5, the avg silhouette score is: 0.130472578165)\n",
      "For clusters num = 6, the avg silhouette score is: 0.124536914112)\n",
      "For clusters num = 7, the avg silhouette score is: 0.138049616195)\n",
      "For clusters num = 8, the avg silhouette score is: 0.134576352498)\n",
      "For clusters num = 9, the avg silhouette score is: 0.127293861176)\n",
      "For clusters num = 10, the avg silhouette score is: 0.122391399278)\n",
      "For clusters num = 11, the avg silhouette score is: 0.117397593588)\n",
      "For clusters num = 12, the avg silhouette score is: 0.116013771784)\n",
      "For clusters num = 13, the avg silhouette score is: 0.114764713985)\n",
      "For clusters num = 14, the avg silhouette score is: 0.109595705391)\n",
      "For clusters num = 15, the avg silhouette score is: 0.112377059774)\n",
      "For clusters num = 16, the avg silhouette score is: 0.108664263818)\n",
      "For clusters num = 17, the avg silhouette score is: 0.109340513631)\n",
      "For clusters num = 18, the avg silhouette score is: 0.10959215469)\n",
      "For clusters num = 19, the avg silhouette score is: 0.109425531341)\n"
     ]
    }
   ],
   "source": [
    "# get silhouette samples\n",
    "for i in range(2, 20):\n",
    "    kmeans = KMeans(n_clusters = i)\n",
    "    kmeans.fit(master_transactions)\n",
    "    clusters = kmeans.predict(master_transactions)\n",
    "    silhouette_avg = silhouette_score(master_transactions, clusters)\n",
    "    print ('For clusters num = {}, the avg silhouette score is: {})'.format(i, silhouette_avg))\n",
    "    # print('For clusters num = ' + str(i) + ', the avg silhouette score is: ' + str(silhouette_avg))"
   ]
  },
  {
   "cell_type": "markdown",
   "metadata": {},
   "source": [
    "As above script shows, clusters_num = 7 has the best average silhouette score of around 0.138<br>\n",
    "Now, the next step is to apply ward emthod to calculate the similarity between the clusters then append the results as a new column to master_transactions"
   ]
  },
  {
   "cell_type": "code",
   "execution_count": 68,
   "metadata": {},
   "outputs": [],
   "source": [
    "ward_model = AgglomerativeClustering(n_clusters = 7)\n",
    "master_transactions['cluster'] = ward_model.fit_predict(master_transactions)"
   ]
  },
  {
   "cell_type": "code",
   "execution_count": 69,
   "metadata": {},
   "outputs": [
    {
     "data": {
      "text/html": [
       "<div>\n",
       "<style scoped>\n",
       "    .dataframe tbody tr th:only-of-type {\n",
       "        vertical-align: middle;\n",
       "    }\n",
       "\n",
       "    .dataframe tbody tr th {\n",
       "        vertical-align: top;\n",
       "    }\n",
       "\n",
       "    .dataframe thead th {\n",
       "        text-align: right;\n",
       "    }\n",
       "</style>\n",
       "<table border=\"1\" class=\"dataframe\">\n",
       "  <thead>\n",
       "    <tr style=\"text-align: right;\">\n",
       "      <th></th>\n",
       "      <th>age</th>\n",
       "      <th>avg_spent</th>\n",
       "      <th>bogo_percent_completed</th>\n",
       "      <th>completed_bogo</th>\n",
       "      <th>completed_discount</th>\n",
       "      <th>discount_percent_completed</th>\n",
       "      <th>gender</th>\n",
       "      <th>income</th>\n",
       "      <th>member_since</th>\n",
       "      <th>num_bogos</th>\n",
       "      <th>num_discounts</th>\n",
       "      <th>num_transactions</th>\n",
       "      <th>percent_completed</th>\n",
       "      <th>total_completed</th>\n",
       "      <th>total_received</th>\n",
       "      <th>total_spent</th>\n",
       "      <th>total_viewed</th>\n",
       "      <th>cluster</th>\n",
       "    </tr>\n",
       "  </thead>\n",
       "  <tbody>\n",
       "    <tr>\n",
       "      <th>12792</th>\n",
       "      <td>-1.518342</td>\n",
       "      <td>-0.718590</td>\n",
       "      <td>-0.250296</td>\n",
       "      <td>-1.719354</td>\n",
       "      <td>1.729610</td>\n",
       "      <td>-0.351955</td>\n",
       "      <td>-1.159778</td>\n",
       "      <td>-0.018752</td>\n",
       "      <td>-1.191531</td>\n",
       "      <td>-1.563191</td>\n",
       "      <td>1.965400</td>\n",
       "      <td>-0.841554</td>\n",
       "      <td>0.0</td>\n",
       "      <td>0.0</td>\n",
       "      <td>0.478540</td>\n",
       "      <td>-0.793457</td>\n",
       "      <td>-0.281302</td>\n",
       "      <td>0</td>\n",
       "    </tr>\n",
       "    <tr>\n",
       "      <th>3576</th>\n",
       "      <td>0.322524</td>\n",
       "      <td>0.307941</td>\n",
       "      <td>-0.250296</td>\n",
       "      <td>-0.564000</td>\n",
       "      <td>2.876572</td>\n",
       "      <td>-0.351955</td>\n",
       "      <td>0.770364</td>\n",
       "      <td>0.351660</td>\n",
       "      <td>0.996016</td>\n",
       "      <td>-0.609045</td>\n",
       "      <td>1.965400</td>\n",
       "      <td>0.316190</td>\n",
       "      <td>0.0</td>\n",
       "      <td>0.0</td>\n",
       "      <td>0.478540</td>\n",
       "      <td>0.659060</td>\n",
       "      <td>0.493128</td>\n",
       "      <td>2</td>\n",
       "    </tr>\n",
       "    <tr>\n",
       "      <th>12492</th>\n",
       "      <td>2.508553</td>\n",
       "      <td>-0.776236</td>\n",
       "      <td>-0.250296</td>\n",
       "      <td>0.591354</td>\n",
       "      <td>-0.564313</td>\n",
       "      <td>-0.351955</td>\n",
       "      <td>0.770364</td>\n",
       "      <td>-1.315194</td>\n",
       "      <td>1.640114</td>\n",
       "      <td>0.345102</td>\n",
       "      <td>-0.518577</td>\n",
       "      <td>0.895062</td>\n",
       "      <td>0.0</td>\n",
       "      <td>0.0</td>\n",
       "      <td>0.478540</td>\n",
       "      <td>-0.646951</td>\n",
       "      <td>-0.281302</td>\n",
       "      <td>6</td>\n",
       "    </tr>\n",
       "    <tr>\n",
       "      <th>547</th>\n",
       "      <td>0.264997</td>\n",
       "      <td>-0.200398</td>\n",
       "      <td>-0.250296</td>\n",
       "      <td>-1.719354</td>\n",
       "      <td>0.582649</td>\n",
       "      <td>-0.351955</td>\n",
       "      <td>-1.159778</td>\n",
       "      <td>-0.666973</td>\n",
       "      <td>0.666811</td>\n",
       "      <td>-1.563191</td>\n",
       "      <td>0.475013</td>\n",
       "      <td>-0.455640</td>\n",
       "      <td>0.0</td>\n",
       "      <td>0.0</td>\n",
       "      <td>1.409069</td>\n",
       "      <td>-0.348630</td>\n",
       "      <td>-0.281302</td>\n",
       "      <td>0</td>\n",
       "    </tr>\n",
       "    <tr>\n",
       "      <th>12272</th>\n",
       "      <td>-0.022638</td>\n",
       "      <td>0.714832</td>\n",
       "      <td>-0.250296</td>\n",
       "      <td>-0.564000</td>\n",
       "      <td>1.729610</td>\n",
       "      <td>-0.351955</td>\n",
       "      <td>-1.159778</td>\n",
       "      <td>1.555499</td>\n",
       "      <td>-1.184374</td>\n",
       "      <td>-0.609045</td>\n",
       "      <td>1.468604</td>\n",
       "      <td>-1.034512</td>\n",
       "      <td>0.0</td>\n",
       "      <td>0.0</td>\n",
       "      <td>-0.451989</td>\n",
       "      <td>-0.278993</td>\n",
       "      <td>0.493128</td>\n",
       "      <td>2</td>\n",
       "    </tr>\n",
       "    <tr>\n",
       "      <th>1516</th>\n",
       "      <td>-1.345761</td>\n",
       "      <td>-0.863333</td>\n",
       "      <td>-0.250296</td>\n",
       "      <td>-0.564000</td>\n",
       "      <td>-0.564313</td>\n",
       "      <td>-0.351955</td>\n",
       "      <td>0.770364</td>\n",
       "      <td>0.351660</td>\n",
       "      <td>-0.948205</td>\n",
       "      <td>-0.609045</td>\n",
       "      <td>0.475013</td>\n",
       "      <td>-1.420426</td>\n",
       "      <td>0.0</td>\n",
       "      <td>0.0</td>\n",
       "      <td>0.478540</td>\n",
       "      <td>-0.891948</td>\n",
       "      <td>-1.055732</td>\n",
       "      <td>0</td>\n",
       "    </tr>\n",
       "    <tr>\n",
       "      <th>8844</th>\n",
       "      <td>0.264997</td>\n",
       "      <td>-0.728708</td>\n",
       "      <td>-0.250296</td>\n",
       "      <td>-0.564000</td>\n",
       "      <td>0.582649</td>\n",
       "      <td>-0.351955</td>\n",
       "      <td>-1.159778</td>\n",
       "      <td>-0.852179</td>\n",
       "      <td>-0.511650</td>\n",
       "      <td>-0.609045</td>\n",
       "      <td>0.971809</td>\n",
       "      <td>-0.648597</td>\n",
       "      <td>0.0</td>\n",
       "      <td>0.0</td>\n",
       "      <td>0.478540</td>\n",
       "      <td>-0.773066</td>\n",
       "      <td>0.493128</td>\n",
       "      <td>2</td>\n",
       "    </tr>\n",
       "    <tr>\n",
       "      <th>12428</th>\n",
       "      <td>0.667687</td>\n",
       "      <td>0.217213</td>\n",
       "      <td>-0.250296</td>\n",
       "      <td>-1.719354</td>\n",
       "      <td>-0.564313</td>\n",
       "      <td>-0.351955</td>\n",
       "      <td>-1.159778</td>\n",
       "      <td>0.120153</td>\n",
       "      <td>1.024643</td>\n",
       "      <td>-1.563191</td>\n",
       "      <td>0.475013</td>\n",
       "      <td>0.316190</td>\n",
       "      <td>0.0</td>\n",
       "      <td>0.0</td>\n",
       "      <td>-0.451989</td>\n",
       "      <td>0.544872</td>\n",
       "      <td>0.493128</td>\n",
       "      <td>0</td>\n",
       "    </tr>\n",
       "    <tr>\n",
       "      <th>10488</th>\n",
       "      <td>-2.036086</td>\n",
       "      <td>-0.795980</td>\n",
       "      <td>-0.250296</td>\n",
       "      <td>0.591354</td>\n",
       "      <td>-0.564313</td>\n",
       "      <td>2.841272</td>\n",
       "      <td>0.770364</td>\n",
       "      <td>-0.944782</td>\n",
       "      <td>-0.845626</td>\n",
       "      <td>0.822175</td>\n",
       "      <td>-1.015373</td>\n",
       "      <td>-0.455640</td>\n",
       "      <td>0.0</td>\n",
       "      <td>0.0</td>\n",
       "      <td>0.478540</td>\n",
       "      <td>-0.798381</td>\n",
       "      <td>-1.055732</td>\n",
       "      <td>3</td>\n",
       "    </tr>\n",
       "    <tr>\n",
       "      <th>12946</th>\n",
       "      <td>0.149943</td>\n",
       "      <td>-0.056243</td>\n",
       "      <td>3.995278</td>\n",
       "      <td>-0.564000</td>\n",
       "      <td>-0.564313</td>\n",
       "      <td>-0.351955</td>\n",
       "      <td>0.770364</td>\n",
       "      <td>-0.111355</td>\n",
       "      <td>-0.411457</td>\n",
       "      <td>-1.086118</td>\n",
       "      <td>-0.518577</td>\n",
       "      <td>-1.613384</td>\n",
       "      <td>0.0</td>\n",
       "      <td>0.0</td>\n",
       "      <td>-0.451989</td>\n",
       "      <td>-0.900489</td>\n",
       "      <td>-1.830162</td>\n",
       "      <td>5</td>\n",
       "    </tr>\n",
       "  </tbody>\n",
       "</table>\n",
       "</div>"
      ],
      "text/plain": [
       "            age  avg_spent  bogo_percent_completed  completed_bogo  \\\n",
       "12792 -1.518342  -0.718590               -0.250296       -1.719354   \n",
       "3576   0.322524   0.307941               -0.250296       -0.564000   \n",
       "12492  2.508553  -0.776236               -0.250296        0.591354   \n",
       "547    0.264997  -0.200398               -0.250296       -1.719354   \n",
       "12272 -0.022638   0.714832               -0.250296       -0.564000   \n",
       "1516  -1.345761  -0.863333               -0.250296       -0.564000   \n",
       "8844   0.264997  -0.728708               -0.250296       -0.564000   \n",
       "12428  0.667687   0.217213               -0.250296       -1.719354   \n",
       "10488 -2.036086  -0.795980               -0.250296        0.591354   \n",
       "12946  0.149943  -0.056243                3.995278       -0.564000   \n",
       "\n",
       "       completed_discount  discount_percent_completed    gender    income  \\\n",
       "12792            1.729610                   -0.351955 -1.159778 -0.018752   \n",
       "3576             2.876572                   -0.351955  0.770364  0.351660   \n",
       "12492           -0.564313                   -0.351955  0.770364 -1.315194   \n",
       "547              0.582649                   -0.351955 -1.159778 -0.666973   \n",
       "12272            1.729610                   -0.351955 -1.159778  1.555499   \n",
       "1516            -0.564313                   -0.351955  0.770364  0.351660   \n",
       "8844             0.582649                   -0.351955 -1.159778 -0.852179   \n",
       "12428           -0.564313                   -0.351955 -1.159778  0.120153   \n",
       "10488           -0.564313                    2.841272  0.770364 -0.944782   \n",
       "12946           -0.564313                   -0.351955  0.770364 -0.111355   \n",
       "\n",
       "       member_since  num_bogos  num_discounts  num_transactions  \\\n",
       "12792     -1.191531  -1.563191       1.965400         -0.841554   \n",
       "3576       0.996016  -0.609045       1.965400          0.316190   \n",
       "12492      1.640114   0.345102      -0.518577          0.895062   \n",
       "547        0.666811  -1.563191       0.475013         -0.455640   \n",
       "12272     -1.184374  -0.609045       1.468604         -1.034512   \n",
       "1516      -0.948205  -0.609045       0.475013         -1.420426   \n",
       "8844      -0.511650  -0.609045       0.971809         -0.648597   \n",
       "12428      1.024643  -1.563191       0.475013          0.316190   \n",
       "10488     -0.845626   0.822175      -1.015373         -0.455640   \n",
       "12946     -0.411457  -1.086118      -0.518577         -1.613384   \n",
       "\n",
       "       percent_completed  total_completed  total_received  total_spent  \\\n",
       "12792                0.0              0.0        0.478540    -0.793457   \n",
       "3576                 0.0              0.0        0.478540     0.659060   \n",
       "12492                0.0              0.0        0.478540    -0.646951   \n",
       "547                  0.0              0.0        1.409069    -0.348630   \n",
       "12272                0.0              0.0       -0.451989    -0.278993   \n",
       "1516                 0.0              0.0        0.478540    -0.891948   \n",
       "8844                 0.0              0.0        0.478540    -0.773066   \n",
       "12428                0.0              0.0       -0.451989     0.544872   \n",
       "10488                0.0              0.0        0.478540    -0.798381   \n",
       "12946                0.0              0.0       -0.451989    -0.900489   \n",
       "\n",
       "       total_viewed  cluster  \n",
       "12792     -0.281302        0  \n",
       "3576       0.493128        2  \n",
       "12492     -0.281302        6  \n",
       "547       -0.281302        0  \n",
       "12272      0.493128        2  \n",
       "1516      -1.055732        0  \n",
       "8844       0.493128        2  \n",
       "12428      0.493128        0  \n",
       "10488     -1.055732        3  \n",
       "12946     -1.830162        5  "
      ]
     },
     "execution_count": 69,
     "metadata": {},
     "output_type": "execute_result"
    }
   ],
   "source": [
    "master_transactions.sample(10)"
   ]
  },
  {
   "cell_type": "code",
   "execution_count": 70,
   "metadata": {},
   "outputs": [],
   "source": [
    "# add cluster column back into master dataset\n",
    "master['cluster'] = master_transactions['cluster']"
   ]
  },
  {
   "cell_type": "code",
   "execution_count": 71,
   "metadata": {},
   "outputs": [],
   "source": [
    "master.to_csv('transactions_clusters.csv', index = False)"
   ]
  },
  {
   "cell_type": "code",
   "execution_count": 72,
   "metadata": {},
   "outputs": [],
   "source": [
    "master = pd.read_csv('transactions_clusters.csv')"
   ]
  },
  {
   "cell_type": "code",
   "execution_count": 73,
   "metadata": {},
   "outputs": [
    {
     "name": "stdout",
     "output_type": "stream",
     "text": [
      "<class 'pandas.core.frame.DataFrame'>\n",
      "RangeIndex: 14825 entries, 0 to 14824\n",
      "Data columns (total 18 columns):\n",
      "age                           14825 non-null int64\n",
      "avg_spent                     14492 non-null float64\n",
      "bogo_percent_completed        14825 non-null int64\n",
      "completed_bogo                14825 non-null int64\n",
      "completed_discount            14825 non-null int64\n",
      "discount_percent_completed    14825 non-null float64\n",
      "gender                        14825 non-null int64\n",
      "income                        14825 non-null float64\n",
      "member_since                  14825 non-null int64\n",
      "num_bogos                     14825 non-null int64\n",
      "num_discounts                 14825 non-null int64\n",
      "num_transactions              14825 non-null int64\n",
      "percent_completed             14825 non-null int64\n",
      "total_completed               14825 non-null int64\n",
      "total_received                14825 non-null int64\n",
      "total_spent                   14825 non-null float64\n",
      "total_viewed                  14825 non-null int64\n",
      "cluster                       14825 non-null int64\n",
      "dtypes: float64(4), int64(14)\n",
      "memory usage: 2.0 MB\n"
     ]
    }
   ],
   "source": [
    "master.info()"
   ]
  },
  {
   "cell_type": "markdown",
   "metadata": {},
   "source": [
    "# Quick Exploratory Data Analysis On Master DataSet"
   ]
  },
  {
   "cell_type": "markdown",
   "metadata": {},
   "source": [
    "#### Visualise the average amount spent by customers in each respective cluster"
   ]
  },
  {
   "cell_type": "code",
   "execution_count": 74,
   "metadata": {},
   "outputs": [
    {
     "data": {
      "image/png": "[encoded data removed]",
      "text/plain": [
       "<Figure size 1080x504 with 1 Axes>"
      ]
     },
     "metadata": {
      "needs_background": "light"
     },
     "output_type": "display_data"
    }
   ],
   "source": [
    "fig, ax = plt.subplots(figsize = (15, 7))\n",
    "# calculate average spent for each cluster\n",
    "cluster_0 = master[master['cluster'] == 0]['avg_spent'] \n",
    "cluster_1 = master[master['cluster'] == 1]['avg_spent']\n",
    "cluster_2 = master[master['cluster'] == 2]['avg_spent']\n",
    "cluster_3 = master[master['cluster'] == 3]['avg_spent']\n",
    "cluster_4 = master[master['cluster'] == 4]['avg_spent']\n",
    "cluster_5 = master[master['cluster'] == 5]['avg_spent']\n",
    "cluster_6 = master[master['cluster'] == 6]['avg_spent']\n",
    "cluster_7 = master[master['cluster'] == 7]['avg_spent']\n",
    "avg_bins = np.arange(min(master['avg_spent']), max(master['avg_spent'] + 2), 2)\n",
    "\n",
    "# plot average spent by all clusters\n",
    "sns.distplot(cluster_0, kde = False, bins = avg_bins);\n",
    "sns.distplot(cluster_1, kde = False, bins = avg_bins);\n",
    "sns.distplot(cluster_2, kde = False, bins = avg_bins);\n",
    "sns.distplot(cluster_3, kde = False, bins = avg_bins);\n",
    "sns.distplot(cluster_4, kde = False, bins = avg_bins);\n",
    "sns.distplot(cluster_5, kde = False, bins = avg_bins);\n",
    "sns.distplot(cluster_6, kde = False, bins = avg_bins);\n",
    "sns.distplot(cluster_7, kde = False, bins = avg_bins);\n",
    "\n",
    "ax.set_xlim([0, 45]);\n",
    "ax.set_ylabel('Customer number')\n",
    "ax.set_xlabel('Amount spent in dollars');\n",
    "ax.set_title('Average amount spent by customers per cluster');\n",
    "ax.legend(title = 'clusters', labels = ['cluster 0', 'cluster 1', 'cluster 2', 'cluster 3', 'cluster 4', 'cluster 5', 'cluster 6', 'cluster 7']);\n"
   ]
  },
  {
   "cell_type": "markdown",
   "metadata": {},
   "source": [
    "#### Visualise the mean of the how customers completed bogo offers per cluster"
   ]
  },
  {
   "cell_type": "code",
   "execution_count": 75,
   "metadata": {},
   "outputs": [
    {
     "data": {
      "text/plain": [
       "Text(0.5,1,'Average times each cluster release a bogo offer')"
      ]
     },
     "execution_count": 75,
     "metadata": {},
     "output_type": "execute_result"
    },
    {
     "data": {
      "image/png": "[encoded data removed]",
      "text/plain": [
       "<Figure size 1080x504 with 1 Axes>"
      ]
     },
     "metadata": {
      "needs_background": "light"
     },
     "output_type": "display_data"
    }
   ],
   "source": [
    "fig, ax = plt.subplots(figsize = (15, 7))\n",
    "completed_bogo_0 = master[master['cluster'] == 0]['bogo_percent_completed'].mean()\n",
    "completed_bogo_1 = master[master['cluster'] == 1]['bogo_percent_completed'].mean()\n",
    "completed_bogo_2 = master[master['cluster'] == 2]['bogo_percent_completed'].mean()\n",
    "completed_bogo_3 = master[master['cluster'] == 3]['bogo_percent_completed'].mean()\n",
    "completed_bogo_4 = master[master['cluster'] == 4]['bogo_percent_completed'].mean()\n",
    "completed_bogo_5 = master[master['cluster'] == 5]['bogo_percent_completed'].mean()\n",
    "completed_bogo_6 = master[master['cluster'] == 6]['bogo_percent_completed'].mean()\n",
    "completed_bogo_7 = master[master['cluster'] == 7]['bogo_percent_completed'].mean()\n",
    "total_bogo = [completed_bogo_0, completed_bogo_1, completed_bogo_2, completed_bogo_3, completed_bogo_4, completed_bogo_5, completed_bogo_6, completed_bogo_7]\n",
    "bins = np.arange(len(total_bogo))\n",
    "tick_labels = ['cluster 0', 'cluster 1', 'cluster 2', 'cluster 3', 'cluster 4', 'cluster 5', 'cluster 6', 'cluster 7']\n",
    "ax.set_xlim([0, 1])\n",
    "ax.barh(bins, total_bogo, tick_label = tick_labels)\n",
    "ax.set_ylabel('Clusters')\n",
    "ax.set_xlabel('Percentage of success')\n",
    "ax.set_title('Average times each cluster release a bogo offer')"
   ]
  },
  {
   "cell_type": "markdown",
   "metadata": {},
   "source": [
    "#### Visualise total number of offers sent to the customers"
   ]
  },
  {
   "cell_type": "code",
   "execution_count": 76,
   "metadata": {},
   "outputs": [
    {
     "data": {
      "text/plain": [
       "Text(0.5,1,'Total number of offers sent to customers percluster')"
      ]
     },
     "execution_count": 76,
     "metadata": {},
     "output_type": "execute_result"
    },
    {
     "data": {
      "image/png": "[encoded data removed]",
      "text/plain": [
       "<Figure size 1080x504 with 1 Axes>"
      ]
     },
     "metadata": {
      "needs_background": "light"
     },
     "output_type": "display_data"
    }
   ],
   "source": [
    "fig, ax = plt.subplots(figsize = (15, 7))\n",
    "sns.countplot(data = master, x = 'total_received', hue = 'cluster')\n",
    "ax.set_ylabel('Customers number')\n",
    "ax.set_xlabel('Number of sent offers')\n",
    "ax.set_title('Total number of offers sent to customers percluster')"
   ]
  },
  {
   "cell_type": "markdown",
   "metadata": {},
   "source": [
    "#### Visualise number of BOGO sent to customers"
   ]
  },
  {
   "cell_type": "code",
   "execution_count": 78,
   "metadata": {},
   "outputs": [
    {
     "data": {
      "text/plain": [
       "Text(0.5,1,'Total number of sent bogo per cluster')"
      ]
     },
     "execution_count": 78,
     "metadata": {},
     "output_type": "execute_result"
    },
    {
     "data": {
      "image/png": "[encoded data removed]",
      "text/plain": [
       "<Figure size 1080x504 with 1 Axes>"
      ]
     },
     "metadata": {
      "needs_background": "light"
     },
     "output_type": "display_data"
    }
   ],
   "source": [
    "fig, ax = plt.subplots(figsize = (15, 7))\n",
    "sns.countplot(data = master, x = 'num_bogos', hue = 'cluster')\n",
    "ax.set_xlim([0, 10])\n",
    "ax.set_ylabel('Customer number')\n",
    "ax.set_xlabel('Number of BOGO sent')\n",
    "ax.set_title('Total number of sent bogo per cluster')"
   ]
  },
  {
   "cell_type": "markdown",
   "metadata": {},
   "source": [
    "#### Visualise number of discount offers sent to customers"
   ]
  },
  {
   "cell_type": "code",
   "execution_count": 79,
   "metadata": {},
   "outputs": [
    {
     "data": {
      "text/plain": [
       "Text(0.5,1,'Total number of sent discount offers per cluster')"
      ]
     },
     "execution_count": 79,
     "metadata": {},
     "output_type": "execute_result"
    },
    {
     "data": {
      "image/png": "[encoded data removed]",
      "text/plain": [
       "<Figure size 1080x504 with 1 Axes>"
      ]
     },
     "metadata": {
      "needs_background": "light"
     },
     "output_type": "display_data"
    }
   ],
   "source": [
    "fig, ax = plt.subplots(figsize = (15, 7))\n",
    "sns.countplot(data = master, x = 'num_discounts', hue = 'cluster')\n",
    "ax.set_xlim([0, 10])\n",
    "ax.set_ylabel('customer number')\n",
    "ax.set_xlabel('Number of discount offers')\n",
    "ax.set_title('Total number of sent discount offers per cluster')"
   ]
  },
  {
   "cell_type": "markdown",
   "metadata": {},
   "source": [
    "#### Visualise completed discount offers per cluster"
   ]
  },
  {
   "cell_type": "code",
   "execution_count": 80,
   "metadata": {},
   "outputs": [
    {
     "data": {
      "text/plain": [
       "Text(0.5,1,'Average times each cluster relseased a discount offer')"
      ]
     },
     "execution_count": 80,
     "metadata": {},
     "output_type": "execute_result"
    },
    {
     "data": {
      "image/png": "[encoded data removed]",
      "text/plain": [
       "<Figure size 1080x504 with 1 Axes>"
      ]
     },
     "metadata": {
      "needs_background": "light"
     },
     "output_type": "display_data"
    }
   ],
   "source": [
    "fig, ax = plt.subplots(figsize = (15, 7))\n",
    "discount_pct_completed_0 = master[master['cluster'] == 0]['discount_percent_completed'].mean()\n",
    "discount_pct_completed_1 = master[master['cluster'] == 1]['discount_percent_completed'].mean()\n",
    "discount_pct_completed_2 = master[master['cluster'] == 2]['discount_percent_completed'].mean()\n",
    "discount_pct_completed_3 = master[master['cluster'] == 3]['discount_percent_completed'].mean()\n",
    "discount_pct_completed_4 = master[master['cluster'] == 4]['discount_percent_completed'].mean()\n",
    "discount_pct_completed_5 = master[master['cluster'] == 5]['discount_percent_completed'].mean()\n",
    "discount_pct_completed_6 = master[master['cluster'] == 6]['discount_percent_completed'].mean()\n",
    "discount_pct_completed_7 = master[master['cluster'] == 7]['discount_percent_completed'].mean()\n",
    "discount_pct_completed_data = [discount_pct_completed_0, discount_pct_completed_1, discount_pct_completed_2, discount_pct_completed_3, discount_pct_completed_4, discount_pct_completed_5, discount_pct_completed_6, discount_pct_completed_7]\n",
    "y_pos = np.arange(len(discount_pct_completed_data))\n",
    "discount_tick_labels = ['cluster 0', 'cluster 1', 'cluster 2', 'cluster 3', 'cluster 4', 'cluster 5', 'cluster 6', 'cluster 7']\n",
    "ax.barh(y_pos, discount_pct_completed_data, tick_label = discount_tick_labels)\n",
    "ax.set_xlim([0, 1])\n",
    "ax.set_ylabel('Clusters')\n",
    "ax.set_xlabel('Success rate')\n",
    "ax.set_title('Average times each cluster relseased a discount offer')"
   ]
  }
 ],
 "metadata": {
  "kernelspec": {
   "display_name": "Python 2",
   "language": "python",
   "name": "python2"
  },
  "language_info": {
   "codemirror_mode": {
    "name": "ipython",
    "version": 2
   },
   "file_extension": ".py",
   "mimetype": "text/x-python",
   "name": "python",
   "nbconvert_exporter": "python",
   "pygments_lexer": "ipython2",
   "version": "2.7.13"
  }
 },
 "nbformat": 4,
 "nbformat_minor": 2
}
